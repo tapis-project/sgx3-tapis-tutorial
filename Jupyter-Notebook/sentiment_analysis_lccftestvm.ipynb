{
 "cells": [
  {
   "cell_type": "markdown",
   "metadata": {
    "collapsed": false,
    "id": "QS1xw_2_32ix",
    "jupyter": {
     "outputs_hidden": false
    }
   },
   "source": [
    "# Gateways 2024 Hands-on Exercises\n",
    "\n",
    "In this notebook, you will use Tapis v3 to create two systems and one application that will be used to run\n",
    "a sentiment analysis job on both a VM using docker and an HPC type host using singularity.\n",
    "\n",
    "To execute each `In[#]` cell, you can click inside the cell and press `Shift + Enter`"
   ]
  },
  {
   "cell_type": "markdown",
   "metadata": {
    "collapsed": false,
    "id": "p4DcvrzN32iy",
    "jupyter": {
     "outputs_hidden": false
    }
   },
   "source": [
    "Install Tapis Python SDK.  After running the code below you need to restart the runtime - go to the Menu and select Runtime -> Restart runtime or use CTRL+M on the keyboard. Now you can execute the code in the notebook and follow the rest of the tutorial."
   ]
  },
  {
   "cell_type": "code",
   "execution_count": null,
   "metadata": {
    "id": "kFXe8SUh32iz"
   },
   "outputs": [],
   "source": [
    "#!pip install tapipy"
   ]
  },
  {
   "cell_type": "markdown",
   "metadata": {
    "collapsed": false,
    "id": "flOg9GzO32i0",
    "jupyter": {
     "outputs_hidden": false
    }
   },
   "source": [
    "## Enter training account information\n",
    "\n",
    "To get things started, please run the following and enter the training account information provided to you:"
   ]
  },
  {
   "cell_type": "code",
   "execution_count": 78,
   "metadata": {
    "id": "UU9wbRpI32i1"
   },
   "outputs": [
    {
     "name": "stdin",
     "output_type": "stream",
     "text": [
      "Username:  \n",
      "Permitted Password:  ········\n"
     ]
    }
   ],
   "source": [
    "import getpass\n",
    "\n",
    "tenant = 'tacc'\n",
    "base_url = 'https://' + tenant + '.tapis.io'\n",
    "\n",
    "# Enter Tapis Username.\n",
    "# Enter your tacc credentials\n",
    "username = input('Username: ')\n",
    "password = getpass.getpass(prompt='Permitted Password: ', stream=None)"
   ]
  },
  {
   "cell_type": "markdown",
   "metadata": {
    "collapsed": false,
    "id": "iUy9_UD-32i2",
    "jupyter": {
     "outputs_hidden": false
    }
   },
   "source": [
    "## Authenticate and initialize Tapis v3 client\n",
    "\n",
    "Using this information, you can now use `tapipy` to authenticate in the tenant and initialize the\n",
    "Tapis v3 client. You should see your token information displayed. This may take a while to run but should take\n",
    "no more than 30 seconds."
   ]
  },
  {
   "cell_type": "code",
   "execution_count": 79,
   "metadata": {
    "id": "JJmlnQKE32i3"
   },
   "outputs": [],
   "source": [
    "from tapipy.tapis import Tapis\n",
    "#Create python Tapis client for user\n",
    "client = Tapis(base_url= base_url, username=username, password=password)\n",
    "# *** Tapis v3: Call to Tokens API\n",
    "client.get_tokens()\n",
    "# Print Tapis v3 token\n",
    "client.access_token"
   ]
  },
  {
   "cell_type": "markdown",
   "metadata": {
    "collapsed": false,
    "id": "FLrLo_P832i3",
    "jupyter": {
     "outputs_hidden": false
    }
   },
   "source": [
    "## Systems\n",
    "\n",
    "In this section we create two Tapis systems, one for running on a VM host using FORK and one for running on an HPC type host using BATCH.\n",
    "\n",
    "Note that although it is possible, we have not provided any login credentials in the system definitions.\n",
    "Well-crafted system definitions are likely to be copied and re-used, so, for security reasons, it is recommended that\n",
    "login credentials be registered using separate API calls as discussed below.\n",
    "\n",
    "### Create a system for the VM host"
   ]
  },
  {
   "cell_type": "code",
   "execution_count": 81,
   "metadata": {},
   "outputs": [
    {
     "name": "stdin",
     "output_type": "stream",
     "text": [
      "Host:  \n"
     ]
    }
   ],
   "source": [
    "# Enter VM Host IP password shared with you \n",
    "host = input('Host: ')\n",
    "#if you are creating password authentication based system, uncomment the below line\n",
    "#password_vm = getpass.getpass(prompt='Password for VM: ', stream=None)"
   ]
  },
  {
   "cell_type": "code",
   "execution_count": 84,
   "metadata": {},
   "outputs": [],
   "source": [
    "# for PKI_KEYS type authentication, register your public and private key\n",
    "# Note that they should be formatted in one line\n",
    "# Read the documenation https://tapis.readthedocs.io/en/latest/technical/systems.html#use-of-pki-keys-as-credentials\n",
    "\n",
    "privKey=\"\""
   ]
  },
  {
   "cell_type": "code",
   "execution_count": 85,
   "metadata": {},
   "outputs": [],
   "source": [
    "pubKey=\"\""
   ]
  },
  {
   "cell_type": "code",
   "execution_count": 30,
   "metadata": {
    "colab": {
     "base_uri": "https://localhost:8080/"
    },
    "id": "Tt-wvvt132i4",
    "outputId": "6ff13bf3-2c67-4f13-aea0-b99b95afb175"
   },
   "outputs": [
    {
     "name": "stdout",
     "output_type": "stream",
     "text": [
      "lccfuser-testvm-spadhy1\n",
      "****************************************************\n",
      "Create system: lccfuser-testvm-spadhy1\n",
      "****************************************************\n"
     ]
    },
    {
     "data": {
      "text/plain": [
       "\n",
       "url: http://tacc.tapis.io/v3/systems/lccfuser-testvm-spadhy1"
      ]
     },
     "execution_count": 30,
     "metadata": {},
     "output_type": "execute_result"
    }
   ],
   "source": [
    "# use your tacc username\n",
    "user_id = \"spadhy\"\n",
    "num = 1\n",
    "\n",
    "system_id_vm = \"lccfuser-testvm-\"+ user_id + str(num)\n",
    "print(system_id_vm)\n",
    "\n",
    "# Create the system definition\n",
    "# exec_system_vm = {\n",
    "#   \"id\": system_id_vm,\n",
    "#   \"description\": \"Test system\",\n",
    "#   \"systemType\": \"LINUX\",\n",
    "#   \"host\": host,\n",
    "#   \"effectiveUserId\":\"${apiUserId}\",\n",
    "#   \"defaultAuthnMethod\": \"PASSWORD\",\n",
    "#   \"rootDir\": \"/\",\n",
    "#   \"canExec\": True,\n",
    "#   \"jobRuntimes\": [ { \"runtimeType\": \"DOCKER\" } ],\n",
    "#   \"jobWorkingDir\": \"HOST_EVAL($HOME)/sharetest/workdir\"\n",
    "# }\n",
    "\n",
    "exec_system_vm = {\n",
    "  \"id\": system_id_vm,\n",
    "  \"description\": \"Test system\",\n",
    "  \"systemType\": \"LINUX\",\n",
    "  \"host\": host,\n",
    "  \"effectiveUserId\":\"lccfuser\",\n",
    "  \"defaultAuthnMethod\": \"PKI_KEYS\",\n",
    "  \"rootDir\": \"/home/lccfuser\",\n",
    "  \"canExec\": True,\n",
    "  \"jobRuntimes\": [ { \"runtimeType\": \"DOCKER\" } ],\n",
    "  \"jobWorkingDir\": \"HOST_EVAL($HOME)/sharetest/workdir\"\n",
    "  }\n",
    "\n",
    "# Use the client to create the system in Tapis\n",
    "print(\"****************************************************\")\n",
    "print(\"Create system: \" + system_id_vm)\n",
    "print(\"****************************************************\")\n",
    "client.systems.createSystem(**exec_system_vm)\n"
   ]
  },
  {
   "cell_type": "code",
   "execution_count": 31,
   "metadata": {
    "colab": {
     "base_uri": "https://localhost:8080/"
    },
    "id": "77jJDuYN32i5",
    "outputId": "b6a6a3eb-2be0-4f34-e56c-b8a3f9d21c59"
   },
   "outputs": [
    {
     "data": {
      "text/plain": [
       "\n",
       "url: http://tacc.tapis.io/v3/systems/lccfuser-testvm-spadhy1"
      ]
     },
     "execution_count": 31,
     "metadata": {},
     "output_type": "execute_result"
    }
   ],
   "source": [
    "# You can also update just a few attributes using the patchSystem call.\n",
    "# Note that not all attributes may be updated and some attributes, such as *enabled*,\n",
    "#   may only be updated using a specific call.\n",
    "# For example, to update the description, first define the json to be used:\n",
    "patch_system_vm = {\n",
    "  \"description\": \"System for running jobs on a VM for LCCF tutorial\"\n",
    "}\n",
    "\n",
    "# Then use the client to make the update:\n",
    "client.systems.patchSystem(**patch_system_vm, systemId=system_id_vm)"
   ]
  },
  {
   "cell_type": "code",
   "execution_count": 32,
   "metadata": {
    "id": "Mj9YJOR632i5"
   },
   "outputs": [
    {
     "name": "stdout",
     "output_type": "stream",
     "text": [
      "****************************************************\n",
      "List all systems\n",
      "****************************************************\n"
     ]
    }
   ],
   "source": [
    "# List all systems available to you\n",
    "print(\"****************************************************\")\n",
    "print(\"List all systems\")\n",
    "print(\"****************************************************\")\n",
    "#client.systems.getSystems()"
   ]
  },
  {
   "cell_type": "raw",
   "metadata": {
    "id": "9uEhq6dK32i6"
   },
   "source": [
    "# Get details for the system you created\n",
    "print(\"****************************************************\")\n",
    "print(\"Fetch system: \" + system_id_vm)\n",
    "print(\"****************************************************\")\n",
    "client.systems.getSystem(systemId=system_id_vm)"
   ]
  },
  {
   "cell_type": "markdown",
   "metadata": {
    "collapsed": false,
    "id": "VyViIQtq32i7",
    "jupyter": {
     "outputs_hidden": false
    }
   },
   "source": [
    "### Register Credentials for the VM system\n",
    "\n",
    "After creating the system, you will need to register credentials for your username. These will be used by Tapis to\n",
    "access the host. Various authentication methods can be used to access a system, such as PASSWORD and PKI_KEYS. For the\n",
    "VM a password is used."
   ]
  },
  {
   "cell_type": "code",
   "execution_count": 33,
   "metadata": {
    "id": "sGmnSV5132i7"
   },
   "outputs": [
    {
     "data": {
      "text/plain": [
       "{'result': None,\n",
       " 'status': 'success',\n",
       " 'message': 'SYSAPI_CRED_UPDATED Credential updated. jwtTenant: tacc jwtUser: spadhy OboTenant: tacc OboUser: spadhy System: lccfuser-testvm-spadhy1 User: lccfuser',\n",
       " 'version': '1.8.1',\n",
       " 'commit': '648f675c',\n",
       " 'build': '2025-01-09T21:49:21Z',\n",
       " 'metadata': None}"
      ]
     },
     "execution_count": 33,
     "metadata": {},
     "output_type": "execute_result"
    }
   ],
   "source": [
    "# Register credentials\n",
    "#client.systems.createUserCredential(systemId=system_id_vm, userName=user_id, password=password_vm)\n",
    "client.systems.createUserCredential(systemId=system_id_vm, userName=\"lccfuser\", privateKey=privKey,publicKey=pubKey)"
   ]
  },
  {
   "cell_type": "markdown",
   "metadata": {
    "collapsed": false,
    "id": "yAWVE8AA32i8",
    "jupyter": {
     "outputs_hidden": false
    }
   },
   "source": [
    "Now you can use the client to list files on the system. This will confirm that the credentials are valid."
   ]
  },
  {
   "cell_type": "code",
   "execution_count": 34,
   "metadata": {
    "id": "wgLGhxarcti3"
   },
   "outputs": [
    {
     "data": {
      "text/plain": [
       "[\n",
       " group: 1014\n",
       " lastModified: 2025-02-06T19:46:09Z\n",
       " mimeType: None\n",
       " name: .bash_history\n",
       " nativePermissions: rw-------\n",
       " owner: 1014\n",
       " path: .bash_history\n",
       " size: 11062\n",
       " type: file\n",
       " url: tapis://lccfuser-testvm-spadhy1/.bash_history,\n",
       " \n",
       " group: 1014\n",
       " lastModified: 2024-02-10T12:29:44Z\n",
       " mimeType: None\n",
       " name: .bash_logout\n",
       " nativePermissions: rw-r--r--\n",
       " owner: 1014\n",
       " path: .bash_logout\n",
       " size: 18\n",
       " type: file\n",
       " url: tapis://lccfuser-testvm-spadhy1/.bash_logout,\n",
       " \n",
       " group: 1014\n",
       " lastModified: 2024-02-10T12:29:44Z\n",
       " mimeType: None\n",
       " name: .bash_profile\n",
       " nativePermissions: rw-r--r--\n",
       " owner: 1014\n",
       " path: .bash_profile\n",
       " size: 141\n",
       " type: file\n",
       " url: tapis://lccfuser-testvm-spadhy1/.bash_profile,\n",
       " \n",
       " group: 1014\n",
       " lastModified: 2024-02-10T12:29:44Z\n",
       " mimeType: None\n",
       " name: .bashrc\n",
       " nativePermissions: rw-r--r--\n",
       " owner: 1014\n",
       " path: .bashrc\n",
       " size: 376\n",
       " type: file\n",
       " url: tapis://lccfuser-testvm-spadhy1/.bashrc,\n",
       " \n",
       " group: 1014\n",
       " lastModified: 2025-01-24T15:39:53Z\n",
       " mimeType: None\n",
       " name: .docker\n",
       " nativePermissions: rwx------\n",
       " owner: 1014\n",
       " path: .docker\n",
       " size: 63\n",
       " type: dir\n",
       " url: tapis://lccfuser-testvm-spadhy1/.docker,\n",
       " \n",
       " group: 1014\n",
       " lastModified: 2025-02-06T19:46:05Z\n",
       " mimeType: None\n",
       " name: .ssh\n",
       " nativePermissions: rwx------\n",
       " owner: 1014\n",
       " path: .ssh\n",
       " size: 29\n",
       " type: dir\n",
       " url: tapis://lccfuser-testvm-spadhy1/.ssh,\n",
       " \n",
       " group: 1014\n",
       " lastModified: 2025-02-06T19:46:05Z\n",
       " mimeType: None\n",
       " name: .viminfo\n",
       " nativePermissions: rw-------\n",
       " owner: 1014\n",
       " path: .viminfo\n",
       " size: 19567\n",
       " type: file\n",
       " url: tapis://lccfuser-testvm-spadhy1/.viminfo,\n",
       " \n",
       " group: 1014\n",
       " lastModified: 2025-01-23T21:47:10Z\n",
       " mimeType: None\n",
       " name: home\n",
       " nativePermissions: rwxrwxr-x\n",
       " owner: 1014\n",
       " path: home\n",
       " size: 22\n",
       " type: dir\n",
       " url: tapis://lccfuser-testvm-spadhy1/home,\n",
       " \n",
       " group: 1014\n",
       " lastModified: 2025-01-24T15:39:42Z\n",
       " mimeType: None\n",
       " name: mpackard\n",
       " nativePermissions: rwxrwxr-x\n",
       " owner: 1014\n",
       " path: mpackard\n",
       " size: 24\n",
       " type: dir\n",
       " url: tapis://lccfuser-testvm-spadhy1/mpackard,\n",
       " \n",
       " group: 1014\n",
       " lastModified: 2025-01-24T04:23:39Z\n",
       " mimeType: None\n",
       " name: workdir\n",
       " nativePermissions: rwxrwxr-x\n",
       " owner: 1014\n",
       " path: workdir\n",
       " size: 18\n",
       " type: dir\n",
       " url: tapis://lccfuser-testvm-spadhy1/workdir]"
      ]
     },
     "execution_count": 34,
     "metadata": {},
     "output_type": "execute_result"
    }
   ],
   "source": [
    "client.files.listFiles(systemId=system_id_vm,path='/')\n"
   ]
  },
  {
   "cell_type": "markdown",
   "metadata": {
    "id": "EfX-NHKi4099"
   },
   "source": [
    "### Natural Language Processsing: Sentiment Analysis\n",
    "- Sentiment Analysis is one of the most popular applications of Natural Language Processing, which uses the Text Classification method to analyse the sentiment or emotion of the given text.\n",
    "- Sentiment analysis assigns a label like 🙂 positive, 🙁 negative, or 😐 neutral to a sequence of text.\n",
    "- It is useful tool to make business decisions based on customer feedback and reviews.\n",
    "\n"
   ]
  },
  {
   "cell_type": "code",
   "execution_count": 34,
   "metadata": {
    "colab": {
     "base_uri": "https://localhost:8080/"
    },
    "id": "Tkx40OLiCmw4",
    "outputId": "13523a89-ff74-4b23-8277-7c08bb475bae"
   },
   "outputs": [],
   "source": [
    "#!pip install -q transformers"
   ]
  },
  {
   "cell_type": "code",
   "execution_count": 35,
   "metadata": {
    "id": "AOWE7vxoDanc"
   },
   "outputs": [],
   "source": [
    "from transformers import pipeline"
   ]
  },
  {
   "cell_type": "code",
   "execution_count": 36,
   "metadata": {
    "colab": {
     "base_uri": "https://localhost:8080/",
     "height": 199,
     "referenced_widgets": [
      "e019f9b1da334de7b367eac4f5832aa7",
      "d702df7b9ebf4dc69500e3fc9c8c79bb",
      "68bd26dfc3184328a35a4a90b5f67de9",
      "f960471fd6fe4265bdbb2fd251de6d83",
      "028c7b70ab0f47eba3c2f1f20b0926e5",
      "3a96b255b77b46929efd57dc56c4a800",
      "b3d6482f80134b668d1c48af02de7bcf",
      "4495c485de554751a39b7ebba6ce9faa",
      "81127743dd6541f6a0362bfbfc3d7472",
      "3ef1dbc02b6a4f08b894093bdac7343d",
      "38831328b9054139accbde1240fbda25",
      "604d3d379cac422db3876609feefab31",
      "67d1cc4f82a641d6abf28f144c46eb8d",
      "98c799acf42b4c7c867803de3bd79612",
      "da334338b05248489ad5e5d2acd432e1",
      "43d1271cec9745cdb2649a85dc79e0e6",
      "8723bbfd4d8a4542ab35aeeac8191c40",
      "b20c421a8af9477299d34f294ca66774",
      "6d18fa41260641ca958def558a890967",
      "951a1ff3690d469dafcab1e112cacfd7",
      "2f5c6539bb0d433e8a93e480452f2078",
      "9b9a8e9b74e842f4962d96a3e3a2e3dd",
      "1a08a5ac238d4d40b1dd7d925361e589",
      "348eef1705e54a9b9f3660ded76bd68f",
      "7eca837840ab495aa653d2751e821b2a",
      "b55f0dae3c3647139c6680d6b59da998",
      "15e1577696a94cda9ff6c4c70ace604b",
      "91c780a04a054671ad27c793f8693390",
      "79bb64584df84cc5b70d837fce33b730",
      "74478d586aaa4fe49c4f344a959e670e",
      "58a16acf45cb46f287d156a14f769a46",
      "c9f88d97ef8b47aa92217e58fd3d82e0",
      "47963cd61cae4dc4998b3a8d91043cc6",
      "a0fc5b142c3b40dba6ab18a03f2a5b05",
      "1668296226ee45449efc03c39b22ce4a",
      "0b8b3fafc8c24636a0c62a166483ddf1",
      "5ffb028ce453462aa304d39876928cb6",
      "f494f3b2a79b4139875cb40395d4e2ee",
      "b2189b6006984d4ca6257f54f0626883",
      "ef60dcf976254edeba80447ddaa09cc4",
      "ce0589017b48404dbce085ac6d20ab39",
      "7936555292b840c5884828de3c249282",
      "d68ec7378a3e4e59ab59ccdeb8b2739e",
      "8e3575d6ddc1441c88027bbd369524cd"
     ]
    },
    "id": "WRcg3qnpDd_3",
    "outputId": "6be1624b-eed1-476a-d7bf-4a9ec55adb3f"
   },
   "outputs": [
    {
     "name": "stderr",
     "output_type": "stream",
     "text": [
      "No model was supplied, defaulted to distilbert/distilbert-base-uncased-finetuned-sst-2-english and revision 714eb0f (https://huggingface.co/distilbert/distilbert-base-uncased-finetuned-sst-2-english).\n",
      "Using a pipeline without specifying a model name and revision in production is not recommended.\n"
     ]
    }
   ],
   "source": [
    "sentiment_pipeline = pipeline(\"sentiment-analysis\")\n",
    "#pipeline(model=\"FacebookAI/roberta-large-mnli\")\n",
    "#"
   ]
  },
  {
   "cell_type": "code",
   "execution_count": 37,
   "metadata": {
    "colab": {
     "base_uri": "https://localhost:8080/"
    },
    "id": "ZIFaBjQiDwjU",
    "outputId": "0258aba0-2a81-4abf-a806-080a61232648"
   },
   "outputs": [
    {
     "data": {
      "text/plain": [
       "[{'label': 'POSITIVE', 'score': 0.9997883439064026}]"
      ]
     },
     "execution_count": 37,
     "metadata": {},
     "output_type": "execute_result"
    }
   ],
   "source": [
    "text= \"Glad to see you at Gateways24\"\n",
    "sentiment_pipeline(text)"
   ]
  },
  {
   "cell_type": "markdown",
   "metadata": {
    "id": "VpsuliwCD_uS"
   },
   "source": [
    "### Let's try this with Tapis now"
   ]
  },
  {
   "cell_type": "code",
   "execution_count": 40,
   "metadata": {
    "id": "mitE0JQ-D-bq"
   },
   "outputs": [],
   "source": [
    "app_id = \"lccfuser-sentiment-analysis-\" + username\n",
    "app_def= {\n",
    "    \"id\": app_id,\n",
    "    \"version\": \"0.1\",\n",
    "    \"description\": \"Application utilizing the sentiment analysis model from Hugging Face.\",\n",
    "    \"jobType\": \"FORK\",\n",
    "    \"runtime\": \"DOCKER\",\n",
    "    \"containerImage\": \"tapis/sentiment-analysis:1.0.2\",\n",
    "    \"jobAttributes\": {\n",
    "        \"parameterSet\": {\n",
    "            \"archiveFilter\": {\n",
    "                \"includeLaunchFiles\": False\n",
    "            }\n",
    "        },\n",
    "        \"memoryMB\": 1,\n",
    "        \"nodeCount\": 1,\n",
    "        \"coresPerNode\": 1,\n",
    "        \"maxMinutes\": 10\n",
    "    }\n",
    "}"
   ]
  },
  {
   "cell_type": "code",
   "execution_count": 41,
   "metadata": {
    "colab": {
     "base_uri": "https://localhost:8080/"
    },
    "id": "tRSAiw2lnmeh",
    "outputId": "e855ef88-5bda-4d54-9a70-1702eb313db5"
   },
   "outputs": [
    {
     "data": {
      "text/plain": [
       "\n",
       "url: http://tacc.tapis.io/v3/apps/lccfuser-sentiment-analysis-spadhy"
      ]
     },
     "execution_count": 41,
     "metadata": {},
     "output_type": "execute_result"
    }
   ],
   "source": [
    "client.apps.createAppVersion(**app_def)\n",
    "\n",
    "#To update the app\n",
    "#client.apps.patchApp(appId=app_id, appVersion='0.2', **app_def)"
   ]
  },
  {
   "cell_type": "code",
   "execution_count": 106,
   "metadata": {
    "id": "C9wa3es5v-Lk"
   },
   "outputs": [
    {
     "data": {
      "text/plain": [
       "\n",
       "containerImage: tapis/sentiment-analysis:1.0.1\n",
       "created: 2025-01-23T21:46:49.883970Z\n",
       "deleted: False\n",
       "description: Application utilizing the sentiment analysis model from Hugging Face.\n",
       "enabled: True\n",
       "id: gateways24-sentiment-analysis-spadhy\n",
       "isPublic: False\n",
       "jobAttributes: \n",
       "archiveOnAppError: False\n",
       "archiveSystemDir: None\n",
       "archiveSystemId: None\n",
       "cmdPrefix: None\n",
       "coresPerNode: 1\n",
       "description: None\n",
       "dtnSystemInputDir: !tapis_not_set\n",
       "dtnSystemOutputDir: !tapis_not_set\n",
       "dynamicExecSystem: False\n",
       "execSystemConstraints: None\n",
       "execSystemExecDir: None\n",
       "execSystemId: None\n",
       "execSystemInputDir: None\n",
       "execSystemLogicalQueue: None\n",
       "execSystemOutputDir: None\n",
       "fileInputArrays: []\n",
       "fileInputs: []\n",
       "isMpi: False\n",
       "maxMinutes: 10\n",
       "memoryMB: 1\n",
       "mpiCmd: None\n",
       "nodeCount: 1\n",
       "parameterSet: \n",
       "appArgs: []\n",
       "archiveFilter: \n",
       "excludes: []\n",
       "includeLaunchFiles: False\n",
       "includes: []\n",
       "containerArgs: []\n",
       "envVariables: []\n",
       "logConfig: \n",
       "stderrFilename: \n",
       "stdoutFilename: \n",
       "schedulerOptions: []\n",
       "subscriptions: []\n",
       "tags: []\n",
       "jobType: FORK\n",
       "locked: False\n",
       "maxJobs: 2147483647\n",
       "maxJobsPerUser: 2147483647\n",
       "notes: \n",
       "\n",
       "owner: spadhy\n",
       "runtime: DOCKER\n",
       "runtimeOptions: None\n",
       "runtimeVersion: None\n",
       "sharedAppCtx: spadhy\n",
       "sharedWithUsers: []\n",
       "strictFileInputs: False\n",
       "tags: []\n",
       "tenant: tacc\n",
       "updated: 2025-01-23T21:46:49.883970Z\n",
       "uuid: dad6497b-79f7-466a-86d7-c25cbc69bc5e\n",
       "version: 0.1\n",
       "versionEnabled: True"
      ]
     },
     "execution_count": 106,
     "metadata": {},
     "output_type": "execute_result"
    }
   ],
   "source": [
    "client.apps.getAppLatestVersion(appId=app_id)"
   ]
  },
  {
   "cell_type": "code",
   "execution_count": 42,
   "metadata": {
    "id": "DGyV9nAufXsO"
   },
   "outputs": [],
   "source": [
    "#Submit job to run the sentiment analysis application\n",
    "pa= {\n",
    "    \"parameterSet\": {\n",
    "    \"appArgs\": [\n",
    "            {\"arg\": \"--sentences\"},\n",
    "            {\"arg\": \"\\\"This is great\\\" \\\"This is not fun\\\"\"}\n",
    "            \n",
    "        ]\n",
    "    }}\n",
    "\n",
    "# Submit a job\n",
    "job_response_vm=client.jobs.submitJob(name='sentiment analysis',description='sentiment analysis with hugging face transformer pipelines',appId=app_id,appVersion='0.1',execSystemId=system_id_vm, **pa)\n"
   ]
  },
  {
   "cell_type": "code",
   "execution_count": 43,
   "metadata": {
    "id": "RXvqh5YslRqv"
   },
   "outputs": [
    {
     "name": "stdout",
     "output_type": "stream",
     "text": [
      "****************************************************\n",
      "Job Submitted: lccfuser-sentiment-analysis-spadhy\n",
      "****************************************************\n",
      "\n",
      "_fileInputsSpec: None\n",
      "_parameterSetModel: None\n",
      "appId: lccfuser-sentiment-analysis-spadhy\n",
      "appVersion: 0.1\n",
      "archiveCorrelationId: None\n",
      "archiveOnAppError: False\n",
      "archiveSystemDir: /home/lccfuser/sharetest/workdir/jobs/22358a59-fa58-4f65-847e-e55b31364511-007/output\n",
      "archiveSystemId: lccfuser-testvm-spadhy1\n",
      "archiveTransactionId: None\n",
      "blockedCount: 0\n",
      "cmdPrefix: None\n",
      "condition: None\n",
      "coresPerNode: 1\n",
      "created: 2025-02-06T20:15:14.581675934Z\n",
      "createdby: spadhy\n",
      "createdbyTenant: tacc\n",
      "description: sentiment analysis with hugging face transformer pipelines\n",
      "dtnInputCorrelationId: None\n",
      "dtnInputTransactionId: None\n",
      "dtnOutputCorrelationId: None\n",
      "dtnOutputTransactionId: None\n",
      "dtnSystemId: None\n",
      "dtnSystemInputDir: None\n",
      "dtnSystemOutputDir: None\n",
      "dynamicExecSystem: False\n",
      "ended: None\n",
      "execSystemConstraints: None\n",
      "execSystemExecDir: /home/lccfuser/sharetest/workdir/jobs/22358a59-fa58-4f65-847e-e55b31364511-007\n",
      "execSystemId: lccfuser-testvm-spadhy1\n",
      "execSystemInputDir: /home/lccfuser/sharetest/workdir/jobs/22358a59-fa58-4f65-847e-e55b31364511-007\n",
      "execSystemLogicalQueue: None\n",
      "execSystemOutputDir: /home/lccfuser/sharetest/workdir/jobs/22358a59-fa58-4f65-847e-e55b31364511-007/output\n",
      "fileInputs: []\n",
      "id: 0\n",
      "inputCorrelationId: None\n",
      "inputTransactionId: None\n",
      "isMpi: False\n",
      "jobType: FORK\n",
      "lastMessage: Job created\n",
      "lastUpdated: 2025-02-06T20:15:14.581675934Z\n",
      "maxMinutes: 10\n",
      "memoryMB: 1\n",
      "mpiCmd: None\n",
      "name: sentiment analysis\n",
      "nodeCount: 1\n",
      "notes: {}\n",
      "owner: spadhy\n",
      "parameterSet: {\"appArgs\":[{\"name\":null,\"description\":null,\"include\":null,\"arg\":\"--sentences\",\"notes\":null},{\"name\":null,\"description\":null,\"include\":null,\"arg\":\"\\\"This is great\\\" \\\"This is not fun\\\"\",\"notes\":null}],\"containerArgs\":[],\"schedulerOptions\":[],\"envVariables\":[{\"key\":\"_tapisAppId\",\"value\":\"lccfuser-sentiment-analysis-spadhy\",\"description\":null,\"include\":null,\"notes\":null},{\"key\":\"_tapisAppVersion\",\"value\":\"0.1\",\"description\":null,\"include\":null,\"notes\":null},{\"key\":\"_tapisArchiveOnAppError\",\"value\":\"false\",\"description\":null,\"include\":null,\"notes\":null},{\"key\":\"_tapisArchiveSystemDir\",\"value\":\"/home/lccfuser/sharetest/workdir/jobs/22358a59-fa58-4f65-847e-e55b31364511-007/output\",\"description\":null,\"include\":null,\"notes\":null},{\"key\":\"_tapisArchiveSystemId\",\"value\":\"lccfuser-testvm-spadhy1\",\"description\":null,\"include\":null,\"notes\":null},{\"key\":\"_tapisCoresPerNode\",\"value\":\"1\",\"description\":null,\"include\":null,\"notes\":null},{\"key\":\"_tapisDynamicExecSystem\",\"value\":\"false\",\"description\":null,\"include\":null,\"notes\":null},{\"key\":\"_tapisEffectiveUserId\",\"value\":\"lccfuser\",\"description\":null,\"include\":null,\"notes\":null},{\"key\":\"_tapisExecSystemExecDir\",\"value\":\"/home/lccfuser/sharetest/workdir/jobs/22358a59-fa58-4f65-847e-e55b31364511-007\",\"description\":null,\"include\":null,\"notes\":null},{\"key\":\"_tapisExecSystemId\",\"value\":\"lccfuser-testvm-spadhy1\",\"description\":null,\"include\":null,\"notes\":null},{\"key\":\"_tapisExecSystemInputDir\",\"value\":\"/home/lccfuser/sharetest/workdir/jobs/22358a59-fa58-4f65-847e-e55b31364511-007\",\"description\":null,\"include\":null,\"notes\":null},{\"key\":\"_tapisExecSystemOutputDir\",\"value\":\"/home/lccfuser/sharetest/workdir/jobs/22358a59-fa58-4f65-847e-e55b31364511-007/output\",\"description\":null,\"include\":null,\"notes\":null},{\"key\":\"_tapisJobCreateDate\",\"value\":\"2025-02-06Z\",\"description\":null,\"include\":null,\"notes\":null},{\"key\":\"_tapisJobCreateTime\",\"value\":\"20:15:14.581675934Z\",\"description\":null,\"include\":null,\"notes\":null},{\"key\":\"_tapisJobCreateTimestamp\",\"value\":\"2025-02-06T20:15:14.581675934Z\",\"description\":null,\"include\":null,\"notes\":null},{\"key\":\"_tapisJobName\",\"value\":\"sentiment analysis\",\"description\":null,\"include\":null,\"notes\":null},{\"key\":\"_tapisJobOwner\",\"value\":\"spadhy\",\"description\":null,\"include\":null,\"notes\":null},{\"key\":\"_tapisJobUUID\",\"value\":\"22358a59-fa58-4f65-847e-e55b31364511-007\",\"description\":null,\"include\":null,\"notes\":null},{\"key\":\"_tapisJobWorkingDir\",\"value\":\"/home/lccfuser/sharetest/workdir\",\"description\":null,\"include\":null,\"notes\":null},{\"key\":\"_tapisMaxMinutes\",\"value\":\"10\",\"description\":null,\"include\":null,\"notes\":null},{\"key\":\"_tapisMemoryMB\",\"value\":\"1\",\"description\":null,\"include\":null,\"notes\":null},{\"key\":\"_tapisNodes\",\"value\":\"1\",\"description\":null,\"include\":null,\"notes\":null},{\"key\":\"_tapisStderrFilename\",\"value\":\"tapisjob.out\",\"description\":null,\"include\":null,\"notes\":null},{\"key\":\"_tapisStdoutFilename\",\"value\":\"tapisjob.out\",\"description\":null,\"include\":null,\"notes\":null},{\"key\":\"_tapisSysHost\",\"value\":\"129.114.35.53\",\"description\":null,\"include\":null,\"notes\":null},{\"key\":\"_tapisSysRootDir\",\"value\":\"/home/lccfuser\",\"description\":null,\"include\":null,\"notes\":null},{\"key\":\"_tapisTenant\",\"value\":\"tacc\",\"description\":null,\"include\":null,\"notes\":null}],\"archiveFilter\":{\"includes\":[],\"excludes\":[],\"includeLaunchFiles\":false},\"logConfig\":{\"stdoutFilename\":\"tapisjob.out\",\"stderrFilename\":\"tapisjob.out\"}}\n",
      "remoteChecksFailed: 0\n",
      "remoteChecksSuccess: 0\n",
      "remoteEnded: None\n",
      "remoteJobId: None\n",
      "remoteJobId2: None\n",
      "remoteLastStatusCheck: None\n",
      "remoteOutcome: None\n",
      "remoteQueue: None\n",
      "remoteResultInfo: None\n",
      "remoteStarted: None\n",
      "remoteSubmitRetries: 0\n",
      "remoteSubmitted: None\n",
      "sharedAppCtx: spadhy\n",
      "sharedAppCtxAttribs: ['SAC_ARCHIVE_SYSTEM_ID']\n",
      "stageAppCorrelationId: None\n",
      "stageAppTransactionId: None\n",
      "status: PENDING\n",
      "subscriptions: []\n",
      "tags: []\n",
      "tapisQueue: tapis.jobq.submit.DefaultQueue\n",
      "tenant: tacc\n",
      "trackingId: None\n",
      "uuid: 22358a59-fa58-4f65-847e-e55b31364511-007\n",
      "visible: True\n"
     ]
    }
   ],
   "source": [
    "# Get Job submission response\n",
    "print(\"****************************************************\")\n",
    "print(\"Job Submitted: \" + app_id)\n",
    "print(\"****************************************************\")\n",
    "print(job_response_vm)"
   ]
  },
  {
   "cell_type": "code",
   "execution_count": 44,
   "metadata": {
    "id": "lz23G5LUHCv1"
   },
   "outputs": [
    {
     "name": "stdout",
     "output_type": "stream",
     "text": [
      "****************************************************\n",
      "Job UUID: 22358a59-fa58-4f65-847e-e55b31364511-007\n",
      "****************************************************\n"
     ]
    }
   ],
   "source": [
    "# Get job uuid from the job submission response\n",
    "print(\"****************************************************\")\n",
    "job_uuid_vm=job_response_vm.uuid\n",
    "print(\"Job UUID: \" + job_uuid_vm)\n",
    "print(\"****************************************************\")"
   ]
  },
  {
   "cell_type": "code",
   "execution_count": 52,
   "metadata": {
    "id": "Aaxk1tx6chL6"
   },
   "outputs": [
    {
     "data": {
      "text/plain": [
       "\n",
       "condition: NORMAL_COMPLETION\n",
       "status: FINISHED"
      ]
     },
     "execution_count": 52,
     "metadata": {},
     "output_type": "execute_result"
    }
   ],
   "source": [
    "client.jobs.getJobStatus(jobUuid=job_uuid_vm)"
   ]
  },
  {
   "cell_type": "code",
   "execution_count": 53,
   "metadata": {},
   "outputs": [
    {
     "data": {
      "text/plain": [
       "\n",
       "_fileInputsSpec: None\n",
       "_parameterSetModel: None\n",
       "appId: lccfuser-sentiment-analysis-spadhy\n",
       "appVersion: 0.1\n",
       "archiveCorrelationId: None\n",
       "archiveOnAppError: False\n",
       "archiveSystemDir: /home/lccfuser/sharetest/workdir/jobs/22358a59-fa58-4f65-847e-e55b31364511-007/output\n",
       "archiveSystemId: lccfuser-testvm-spadhy1\n",
       "archiveTransactionId: None\n",
       "blockedCount: 0\n",
       "cmdPrefix: None\n",
       "condition: NORMAL_COMPLETION\n",
       "coresPerNode: 1\n",
       "created: 2025-02-06T20:15:14.581676Z\n",
       "createdby: spadhy\n",
       "createdbyTenant: tacc\n",
       "description: sentiment analysis with hugging face transformer pipelines\n",
       "dtnInputCorrelationId: None\n",
       "dtnInputTransactionId: None\n",
       "dtnOutputCorrelationId: None\n",
       "dtnOutputTransactionId: None\n",
       "dtnSystemId: None\n",
       "dtnSystemInputDir: None\n",
       "dtnSystemOutputDir: None\n",
       "dynamicExecSystem: False\n",
       "ended: 2025-02-06T20:16:00.696462Z\n",
       "execSystemConstraints: None\n",
       "execSystemExecDir: /home/lccfuser/sharetest/workdir/jobs/22358a59-fa58-4f65-847e-e55b31364511-007\n",
       "execSystemId: lccfuser-testvm-spadhy1\n",
       "execSystemInputDir: /home/lccfuser/sharetest/workdir/jobs/22358a59-fa58-4f65-847e-e55b31364511-007\n",
       "execSystemLogicalQueue: None\n",
       "execSystemOutputDir: /home/lccfuser/sharetest/workdir/jobs/22358a59-fa58-4f65-847e-e55b31364511-007/output\n",
       "fileInputs: []\n",
       "id: 25480\n",
       "inputCorrelationId: None\n",
       "inputTransactionId: None\n",
       "isMpi: False\n",
       "jobType: FORK\n",
       "lastMessage: Setting job status to FINISHED.\n",
       "lastUpdated: 2025-02-06T20:16:00.696462Z\n",
       "maxMinutes: 10\n",
       "memoryMB: 1\n",
       "mpiCmd: None\n",
       "name: sentiment analysis\n",
       "nodeCount: 1\n",
       "notes: {}\n",
       "owner: spadhy\n",
       "parameterSet: {\"appArgs\": [{\"arg\": \"--sentences\", \"name\": null, \"notes\": null, \"include\": null, \"description\": null}, {\"arg\": \"\\\"This is great\\\" \\\"This is not fun\\\"\", \"name\": null, \"notes\": null, \"include\": null, \"description\": null}], \"logConfig\": {\"stderrFilename\": \"tapisjob.out\", \"stdoutFilename\": \"tapisjob.out\"}, \"envVariables\": [{\"key\": \"_tapisAppId\", \"notes\": null, \"value\": \"lccfuser-sentiment-analysis-spadhy\", \"include\": null, \"description\": null}, {\"key\": \"_tapisAppVersion\", \"notes\": null, \"value\": \"0.1\", \"include\": null, \"description\": null}, {\"key\": \"_tapisArchiveOnAppError\", \"notes\": null, \"value\": \"false\", \"include\": null, \"description\": null}, {\"key\": \"_tapisArchiveSystemDir\", \"notes\": null, \"value\": \"/home/lccfuser/sharetest/workdir/jobs/22358a59-fa58-4f65-847e-e55b31364511-007/output\", \"include\": null, \"description\": null}, {\"key\": \"_tapisArchiveSystemId\", \"notes\": null, \"value\": \"lccfuser-testvm-spadhy1\", \"include\": null, \"description\": null}, {\"key\": \"_tapisCoresPerNode\", \"notes\": null, \"value\": \"1\", \"include\": null, \"description\": null}, {\"key\": \"_tapisDynamicExecSystem\", \"notes\": null, \"value\": \"false\", \"include\": null, \"description\": null}, {\"key\": \"_tapisEffectiveUserId\", \"notes\": null, \"value\": \"lccfuser\", \"include\": null, \"description\": null}, {\"key\": \"_tapisExecSystemExecDir\", \"notes\": null, \"value\": \"/home/lccfuser/sharetest/workdir/jobs/22358a59-fa58-4f65-847e-e55b31364511-007\", \"include\": null, \"description\": null}, {\"key\": \"_tapisExecSystemId\", \"notes\": null, \"value\": \"lccfuser-testvm-spadhy1\", \"include\": null, \"description\": null}, {\"key\": \"_tapisExecSystemInputDir\", \"notes\": null, \"value\": \"/home/lccfuser/sharetest/workdir/jobs/22358a59-fa58-4f65-847e-e55b31364511-007\", \"include\": null, \"description\": null}, {\"key\": \"_tapisExecSystemOutputDir\", \"notes\": null, \"value\": \"/home/lccfuser/sharetest/workdir/jobs/22358a59-fa58-4f65-847e-e55b31364511-007/output\", \"include\": null, \"description\": null}, {\"key\": \"_tapisJobCreateDate\", \"notes\": null, \"value\": \"2025-02-06Z\", \"include\": null, \"description\": null}, {\"key\": \"_tapisJobCreateTime\", \"notes\": null, \"value\": \"20:15:14.581675934Z\", \"include\": null, \"description\": null}, {\"key\": \"_tapisJobCreateTimestamp\", \"notes\": null, \"value\": \"2025-02-06T20:15:14.581675934Z\", \"include\": null, \"description\": null}, {\"key\": \"_tapisJobName\", \"notes\": null, \"value\": \"sentiment analysis\", \"include\": null, \"description\": null}, {\"key\": \"_tapisJobOwner\", \"notes\": null, \"value\": \"spadhy\", \"include\": null, \"description\": null}, {\"key\": \"_tapisJobUUID\", \"notes\": null, \"value\": \"22358a59-fa58-4f65-847e-e55b31364511-007\", \"include\": null, \"description\": null}, {\"key\": \"_tapisJobWorkingDir\", \"notes\": null, \"value\": \"/home/lccfuser/sharetest/workdir\", \"include\": null, \"description\": null}, {\"key\": \"_tapisMaxMinutes\", \"notes\": null, \"value\": \"10\", \"include\": null, \"description\": null}, {\"key\": \"_tapisMemoryMB\", \"notes\": null, \"value\": \"1\", \"include\": null, \"description\": null}, {\"key\": \"_tapisNodes\", \"notes\": null, \"value\": \"1\", \"include\": null, \"description\": null}, {\"key\": \"_tapisStderrFilename\", \"notes\": null, \"value\": \"tapisjob.out\", \"include\": null, \"description\": null}, {\"key\": \"_tapisStdoutFilename\", \"notes\": null, \"value\": \"tapisjob.out\", \"include\": null, \"description\": null}, {\"key\": \"_tapisSysHost\", \"notes\": null, \"value\": \"129.114.35.53\", \"include\": null, \"description\": null}, {\"key\": \"_tapisSysRootDir\", \"notes\": null, \"value\": \"/home/lccfuser\", \"include\": null, \"description\": null}, {\"key\": \"_tapisTenant\", \"notes\": null, \"value\": \"tacc\", \"include\": null, \"description\": null}], \"archiveFilter\": {\"excludes\": [], \"includes\": [], \"includeLaunchFiles\": false}, \"containerArgs\": [], \"schedulerOptions\": []}\n",
       "remoteChecksFailed: 0\n",
       "remoteChecksSuccess: 4\n",
       "remoteEnded: 2025-02-06T20:16:00.652485Z\n",
       "remoteJobId: ce0025fa27c663f338b06a1ce021390fc4d240e218b471aafd96311ea54bba1b\n",
       "remoteJobId2: None\n",
       "remoteLastStatusCheck: 2025-02-06T20:16:00.639767Z\n",
       "remoteOutcome: FINISHED\n",
       "remoteQueue: None\n",
       "remoteResultInfo: 0\n",
       "remoteStarted: 2025-02-06T20:15:27.718841Z\n",
       "remoteSubmitRetries: 0\n",
       "remoteSubmitted: 2025-02-06T20:15:27.696630Z\n",
       "sharedAppCtx: spadhy\n",
       "sharedAppCtxAttribs: ['SAC_ARCHIVE_SYSTEM_ID']\n",
       "stageAppCorrelationId: None\n",
       "stageAppTransactionId: None\n",
       "status: FINISHED\n",
       "subscriptions: []\n",
       "tags: None\n",
       "tapisQueue: tapis.jobq.submit.DefaultQueue\n",
       "tenant: tacc\n",
       "trackingId: None\n",
       "uuid: 22358a59-fa58-4f65-847e-e55b31364511-007\n",
       "visible: True"
      ]
     },
     "execution_count": 53,
     "metadata": {},
     "output_type": "execute_result"
    }
   ],
   "source": [
    "client.jobs.getJob(jobUuid=job_uuid_vm)"
   ]
  },
  {
   "cell_type": "code",
   "execution_count": 54,
   "metadata": {
    "colab": {
     "base_uri": "https://localhost:8080/"
    },
    "id": "boT6bq1Z0wbx",
    "outputId": "52fc10ea-9c07-4c0b-ec01-2a99cfa54af8"
   },
   "outputs": [
    {
     "data": {
      "text/plain": [
       "b'SENTENCE,anger,disgust,fear,joy,neutral,sadness,surprise,anger,disgust,fear,joy,neutral,sadness,surprise\\r\\nThis is great,0.002,0.003,0.001,0.901,0.071,0.003,0.019\\r\\nThis is not fun,0.032,0.076,0.004,0.003,0.031,0.845,0.008\\r\\n'"
      ]
     },
     "execution_count": 54,
     "metadata": {},
     "output_type": "execute_result"
    }
   ],
   "source": [
    "client.jobs.getJobOutputDownload(jobUuid=job_uuid_vm, outputPath='results.csv')"
   ]
  },
  {
   "cell_type": "markdown",
   "metadata": {
    "collapsed": false,
    "id": "8rZz6n2K32i9",
    "jupyter": {
     "outputs_hidden": false
    }
   },
   "source": [
    "### Create a system for the HPC cluster\n",
    "\n",
    "With just a few changes to the system definition you can create a second system that can be used to run the\n",
    "same application on an HPC type host. Note the minimal changes:\n",
    "\n",
    "* **id** - A unique id is required\n",
    "* **host** - Main hostname for the HPC system.\n",
    "* **rootDir** - Using the root directory of the host gives us flexibility in setting **jobWorkingDir**.\n",
    "  Note that you still need LINUX permissions.\n",
    "* **jobWorkingDir** - Now determined dynamically using the Tapis v3 function HOST_EVAL()\n",
    "* **jobRuntimes** - Most HPC systems support singularity and not docker\n",
    "* **batchLogicalQueue.hpcQueueName** - HPC queue to use by default.\n",
    "* **batchLogicalQueues** - HPC queue definitions for this HPC system."
   ]
  },
  {
   "cell_type": "code",
   "execution_count": 66,
   "metadata": {
    "colab": {
     "base_uri": "https://localhost:8080/"
    },
    "id": "gkDmZ2Vp32i-",
    "outputId": "4b3ddc45-9449-4c47-ee1f-e9630d7333e1"
   },
   "outputs": [
    {
     "name": "stdout",
     "output_type": "stream",
     "text": [
      "****************************************************\n",
      "Create system: lccf-hpc-spadhy1\n",
      "****************************************************\n"
     ]
    },
    {
     "data": {
      "text/plain": [
       "\n",
       "url: http://tacc.tapis.io/v3/systems/lccf-hpc-spadhy1"
      ]
     },
     "execution_count": 66,
     "metadata": {},
     "output_type": "execute_result"
    }
   ],
   "source": [
    "user_id = \"spadhy\"\n",
    "system_id_hpc = \"lccf-hpc-\" + user_id + str(1)\n",
    "host=\"129.114.63.133\"\n",
    "\n",
    "# Create the system definition\n",
    "exec_system_hpc = {\n",
    "  \"id\": system_id_hpc,\n",
    "  \"description\": \"System for testing jobs on an HPC type host for LCCF Test\",\n",
    "  \"systemType\": \"LINUX\",\n",
    "  \"host\": host,\n",
    "  #\"defaultAuthnMethod\": \"PASSWORD\",\n",
    "  \"defaultAuthnMethod\":\"PKI_KEYS\",  \n",
    "  \"effectiveUserId\": \"${apiUserId}\",\n",
    "  \"rootDir\": \"/\",\n",
    "  \"canExec\": True,\n",
    "  \"jobRuntimes\": [ { \"runtimeType\": \"SINGULARITY\" } ],\n",
    "  \"jobWorkingDir\": \"HOST_EVAL($HOME)/sharetest/workdir\",\n",
    "  \"canRunBatch\": True,\n",
    "  \"batchScheduler\": \"SLURM\",\n",
    "  \"batchSchedulerProfile\": \"tacc\",\n",
    "  \"batchDefaultLogicalQueue\": \"tapisNormal\",\n",
    "  \"batchLogicalQueues\": [\n",
    "    {\n",
    "      \"name\": \"tapisNormal\",\n",
    "      \"hpcQueueName\": \"normal\",\n",
    "      \"maxJobs\": 50,\n",
    "      \"maxJobsPerUser\": 10,\n",
    "      \"minNodeCount\": 1,\n",
    "      \"maxNodeCount\": 16,\n",
    "      \"minCoresPerNode\": 1,\n",
    "      \"maxCoresPerNode\": 68,\n",
    "      \"minMemoryMB\": 1,\n",
    "      \"maxMemoryMB\": 16384,\n",
    "      \"minMinutes\": 1,\n",
    "      \"maxMinutes\": 60\n",
    "    }\n",
    "  ]\n",
    "}\n",
    "\n",
    "# Use the client to create the system in Tapis\n",
    "print(\"****************************************************\")\n",
    "print(\"Create system: \" + system_id_hpc)\n",
    "print(\"****************************************************\")\n",
    "client.systems.createSystem(**exec_system_hpc)\n",
    "\n",
    "# If you need to update the system,\n",
    "# - modify the above definition as needed\n",
    "# - comment out the above line\n",
    "# - uncomment the below line\n",
    "# - re-run the cell\n",
    "#client.systems.patchSystem(**exec_system_hpc, systemId=system_id_hpc)\n"
   ]
  },
  {
   "cell_type": "code",
   "execution_count": 67,
   "metadata": {
    "id": "fkxO1Qhe32i_"
   },
   "outputs": [
    {
     "name": "stdout",
     "output_type": "stream",
     "text": [
      "****************************************************\n",
      "List all systems\n",
      "****************************************************\n"
     ]
    }
   ],
   "source": [
    "# List all systems available to you\n",
    "print(\"****************************************************\")\n",
    "print(\"List all systems\")\n",
    "print(\"****************************************************\")\n",
    "#client.systems.getSystems()"
   ]
  },
  {
   "cell_type": "code",
   "execution_count": 68,
   "metadata": {
    "id": "It2pAWcS32i_"
   },
   "outputs": [
    {
     "name": "stdout",
     "output_type": "stream",
     "text": [
      "****************************************************\n",
      "Fetch system: lccf-hpc-spadhy1\n",
      "****************************************************\n"
     ]
    },
    {
     "data": {
      "text/plain": [
       "\n",
       "allowChildren: False\n",
       "authnCredential: None\n",
       "batchDefaultLogicalQueue: tapisNormal\n",
       "batchLogicalQueues: [\n",
       "hpcQueueName: normal\n",
       "maxCoresPerNode: 68\n",
       "maxJobs: 50\n",
       "maxJobsPerUser: 10\n",
       "maxMemoryMB: 16384\n",
       "maxMinutes: 60\n",
       "maxNodeCount: 16\n",
       "minCoresPerNode: 1\n",
       "minMemoryMB: 1\n",
       "minMinutes: 1\n",
       "minNodeCount: 1\n",
       "name: tapisNormal]\n",
       "batchScheduler: SLURM\n",
       "batchSchedulerProfile: tacc\n",
       "bucketName: None\n",
       "canExec: True\n",
       "canRunBatch: True\n",
       "created: 2025-02-06T20:33:39.036412Z\n",
       "defaultAuthnMethod: PKI_KEYS\n",
       "deleted: False\n",
       "description: System for testing jobs on an HPC type host for LCCF Test\n",
       "dtnSystemId: None\n",
       "effectiveUserId: spadhy\n",
       "enableCmdPrefix: False\n",
       "enabled: True\n",
       "host: 129.114.63.133\n",
       "id: lccf-hpc-spadhy1\n",
       "importRefId: None\n",
       "isDynamicEffectiveUser: True\n",
       "isPublic: False\n",
       "jobCapabilities: []\n",
       "jobEnvVariables: []\n",
       "jobMaxJobs: 2147483647\n",
       "jobMaxJobsPerUser: 2147483647\n",
       "jobRuntimes: [\n",
       "runtimeType: SINGULARITY\n",
       "version: None]\n",
       "jobWorkingDir: HOST_EVAL($HOME)/sharetest/workdir\n",
       "mpiCmd: None\n",
       "notes: \n",
       "\n",
       "owner: spadhy\n",
       "parentId: None\n",
       "port: -1\n",
       "proxyHost: None\n",
       "proxyPort: -1\n",
       "rootDir: /\n",
       "sharedWithUsers: []\n",
       "systemType: LINUX\n",
       "tags: []\n",
       "tenant: tacc\n",
       "updated: 2025-02-06T20:33:39.036412Z\n",
       "useProxy: False\n",
       "uuid: 859ac981-8736-4a61-9b9a-4bb9bd5b9e2b"
      ]
     },
     "execution_count": 68,
     "metadata": {},
     "output_type": "execute_result"
    }
   ],
   "source": [
    "# Get details for the system you created\n",
    "print(\"****************************************************\")\n",
    "print(\"Fetch system: \" + system_id_hpc)\n",
    "print(\"****************************************************\")\n",
    "client.systems.getSystem(systemId=system_id_hpc)"
   ]
  },
  {
   "cell_type": "markdown",
   "metadata": {
    "collapsed": false,
    "id": "6Zz027KS32jA",
    "jupyter": {
     "outputs_hidden": false
    }
   },
   "source": [
    "### Register Credentials for the HPC system\n",
    "\n",
    "As before, now you will need to register credentials for your username. These will be used by Tapis to\n",
    "access the host."
   ]
  },
  {
   "cell_type": "code",
   "execution_count": 72,
   "metadata": {},
   "outputs": [],
   "source": [
    "pubKey_hpc=\"\""
   ]
  },
  {
   "cell_type": "code",
   "execution_count": 73,
   "metadata": {},
   "outputs": [],
   "source": [
    "privKey_hpc=\"\""
   ]
  },
  {
   "cell_type": "code",
   "execution_count": 74,
   "metadata": {},
   "outputs": [],
   "source": [
    "# Register credentials\n",
    "client.systems.createUserCredential(systemId=system_id_hpc, userName=\"spadhy\", privateKey=privKey,publicKey=pubKey)"
   ]
  },
  {
   "cell_type": "code",
   "execution_count": 75,
   "metadata": {
    "id": "uHUnPYYb32jA"
   },
   "outputs": [],
   "source": [
    "#password_hpc = password_vm\n",
    "# Register credentials\n",
    "#client.systems.createUserCredential(systemId=system_id_hpc, userName=username, password=password_hpc)\n"
   ]
  },
  {
   "cell_type": "markdown",
   "metadata": {
    "collapsed": false,
    "id": "ZuyT88zs32jA",
    "jupyter": {
     "outputs_hidden": false
    }
   },
   "source": [
    "Now you can use the client to list files on the system. This will confirm that the credentials are valid."
   ]
  },
  {
   "cell_type": "code",
   "execution_count": 76,
   "metadata": {
    "id": "oo8403Z_32jB"
   },
   "outputs": [],
   "source": [
    "# List files at the rootDir for the system\n",
    "path_to_list = \"/\"\n",
    "#client.files.listFiles(systemId=system_id_hpc, path=path_to_list)"
   ]
  },
  {
   "cell_type": "markdown",
   "metadata": {
    "collapsed": false,
    "id": "0ZKd5yCi32jB",
    "jupyter": {
     "outputs_hidden": false
    }
   },
   "source": [
    "## Application\n",
    "\n",
    "In order to run a job on a system you will need to create a Tapis application.\n",
    "\n",
    "### Create an application that can be run on the VM host or the HPC cluster"
   ]
  },
  {
   "cell_type": "code",
   "execution_count": null,
   "metadata": {
    "id": "kzn6TaRiDega"
   },
   "outputs": [],
   "source": [
    "app_id_hpc = \"lccf-sentiment-analysis-hpc-\" + username\n",
    "app_def_hpc= {\n",
    "    \"id\": app_id_hpc,\n",
    "    \"version\": \"0.1\",\n",
    "    \"description\": \"Application utilizing the sentiment analysis model from Hugging Face.\",\n",
    "    \"jobType\": \"BATCH\",\n",
    "    \"runtime\": \"SINGULARITY\",\n",
    "    \"runtimeOptions\": [\"SINGULARITY_RUN\"],\n",
    "    \"containerImage\": \"/tmp/sentiment-analysis_1.0.1.sif\",\n",
    "    \"jobAttributes\": {\n",
    "            \"parameterSet\": {\n",
    "            \"archiveFilter\": {\n",
    "                \"includeLaunchFiles\": False\n",
    "            }\n",
    "        },\n",
    "        \"memoryMB\": 1,\n",
    "        \"nodeCount\": 1,\n",
    "        \"coresPerNode\": 1,\n",
    "        \"maxMinutes\": 10\n",
    "    }\n",
    "}"
   ]
  },
  {
   "cell_type": "code",
   "execution_count": null,
   "metadata": {
    "colab": {
     "base_uri": "https://localhost:8080/"
    },
    "id": "B64yeXLS3YCg",
    "outputId": "eed78a1b-6e45-4080-87b8-084396305e29"
   },
   "outputs": [],
   "source": [
    "client.apps.createAppVersion(**app_def_hpc)\n",
    "\n",
    "#client.apps.patchApp(**app_def_hpc, appId=app_id_hpc, appVersion='0.1')"
   ]
  },
  {
   "cell_type": "code",
   "execution_count": null,
   "metadata": {
    "id": "HAo2_dYF32jC"
   },
   "outputs": [],
   "source": [
    "# List all applications available to you\n",
    "print(\"****************************************************\")\n",
    "print(\"List all applications\")\n",
    "print(\"****************************************************\")\n",
    "client.apps.getApps()"
   ]
  },
  {
   "cell_type": "code",
   "execution_count": null,
   "metadata": {
    "id": "ox-Bsbnn32jD"
   },
   "outputs": [],
   "source": [
    "# Get details for the application you created\n",
    "print(\"****************************************************\")\n",
    "print(\"Fetch application: \" + 'Sentiment Analysis HPC app')\n",
    "print(\"****************************************************\")\n",
    "client.apps.getAppLatestVersion(appId=app_id_hpc)"
   ]
  },
  {
   "cell_type": "code",
   "execution_count": null,
   "metadata": {
    "id": "cekpWqVjYjXz"
   },
   "outputs": [],
   "source": [
    "# Submit job to run the sentiment analysis application\n",
    "pa= {\n",
    "    \"parameterSet\": {\n",
    "    \"appArgs\": [\n",
    "            {\"arg\": \"--sentences\"},\n",
    "            {\"arg\": \"\\\"This is great\\\" \\\"This is not fun\\\"\"}\n",
    "            \n",
    "        ]\n",
    "    }}\n",
    "\n",
    "# Submit a job\n",
    "job_response_hpc=client.jobs.submitJob(name='sentiment analysis',description='sentiment analysis with hugging face transformer pipelines',appId=app_id_hpc,appVersion='0.1',execSystemId=system_id_hpc, **pa)\n"
   ]
  },
  {
   "cell_type": "markdown",
   "metadata": {
    "collapsed": false,
    "id": "d83FVxM432jE",
    "jupyter": {
     "outputs_hidden": false
    }
   },
   "source": [
    "### Get Job submission response\n"
   ]
  },
  {
   "cell_type": "code",
   "execution_count": null,
   "metadata": {
    "id": "FV53_w_k32jE"
   },
   "outputs": [],
   "source": [
    "# Get Job submission response\n",
    "print(\"****************************************************\")\n",
    "print(\"Job Submitted: \" + app_id_hpc)\n",
    "print(\"****************************************************\")\n",
    "print(job_response_hpc)"
   ]
  },
  {
   "cell_type": "markdown",
   "metadata": {
    "collapsed": false,
    "id": "9smz7Vl532jF",
    "jupyter": {
     "outputs_hidden": false
    }
   },
   "source": [
    "### Get Job UUID from the submission response\n"
   ]
  },
  {
   "cell_type": "code",
   "execution_count": null,
   "metadata": {
    "id": "-Vs2lrw132jF"
   },
   "outputs": [],
   "source": [
    "# Get job uuid from the job submission response\n",
    "print(\"****************************************************\")\n",
    "job_uuid_hpc=job_response_hpc.uuid\n",
    "print(\"Job UUID: \" + job_uuid_hpc)\n",
    "print(\"****************************************************\")"
   ]
  },
  {
   "cell_type": "markdown",
   "metadata": {
    "collapsed": false,
    "id": "uzaIFB1f32jF",
    "jupyter": {
     "outputs_hidden": false
    }
   },
   "source": [
    "### Check the status of the job\n"
   ]
  },
  {
   "cell_type": "code",
   "execution_count": null,
   "metadata": {
    "colab": {
     "base_uri": "https://localhost:8080/"
    },
    "id": "ovkun2jh32jG",
    "outputId": "4237e4f2-4675-4fee-9354-b776f1c940ad"
   },
   "outputs": [],
   "source": [
    "# Check the status of the job\n",
    "print(\"****************************************************\")\n",
    "print(client.jobs.getJobStatus(jobUuid=job_uuid_hpc))\n",
    "print(\"****************************************************\")"
   ]
  },
  {
   "cell_type": "markdown",
   "metadata": {
    "collapsed": false,
    "id": "dTr7gsEy32jG",
    "jupyter": {
     "outputs_hidden": false
    }
   },
   "source": [
    "### Download output of the job\n"
   ]
  },
  {
   "cell_type": "code",
   "execution_count": null,
   "metadata": {
    "id": "g3ijNFqP32jG"
   },
   "outputs": [],
   "source": [
    "# Once the job is in the FINISHED state, you can download output of the job\n",
    "print(\"Job Output file:\")\n",
    "\n",
    "print(\"****************************************************\")\n",
    "jobs_output_hpc= client.jobs.getJobOutputDownload(jobUuid=job_uuid_hpc,outputPath='results.csv')\n",
    "print(jobs_output_hpc)\n",
    "print(\"****************************************************\")"
   ]
  },
  {
   "cell_type": "markdown",
   "metadata": {
    "collapsed": false,
    "id": "zbPCKlo532jG",
    "jupyter": {
     "outputs_hidden": false
    }
   },
   "source": [
    "### Setting Notifications on Job events\n"
   ]
  },
  {
   "cell_type": "markdown",
   "metadata": {},
   "source": [
    "Note: Make sure to add your email address in the submitJob call."
   ]
  },
  {
   "cell_type": "code",
   "execution_count": null,
   "metadata": {
    "id": "zSFWG6mnHqzd"
   },
   "outputs": [],
   "source": [
    "pa= {\n",
    "    \"parameterSet\": {\n",
    "    \"appArgs\": [\n",
    "            {\"arg\": \"--sentences\"},\n",
    "            {\"arg\": \"\\\"This is great\\\" \\\"This is not fun\\\"\"}\n",
    "            \n",
    "        ]\n",
    "    }}\n",
    "\n",
    "# Submit a job\n",
    "job_response_hpc_email=client.jobs.submitJob(name='sentiment analysis',description='sentiment analysis with hugging face transformer pipelines',appId=app_id_hpc,appVersion='0.1',execSystemId=system_id_hpc,subscriptions= [ { \"description\": \"Test subscriptions\", \"eventCategoryFilter\": \"ALL\",\"deliveryTargets\": [ { \"deliveryMethod\": \"EMAIL\",\"deliveryAddress\":\"<Enter your email>\"}] }],**pa)\n"
   ]
  },
  {
   "cell_type": "code",
   "execution_count": null,
   "metadata": {
    "id": "KW5yNlVf32jH"
   },
   "outputs": [],
   "source": [
    "# Get Job submission response\n",
    "print(\"****************************************************\")\n",
    "print(\"Job Submitted: \" + app_id_hpc)\n",
    "print(\"****************************************************\")\n",
    "print(job_response_hpc_email)"
   ]
  },
  {
   "cell_type": "code",
   "execution_count": null,
   "metadata": {
    "colab": {
     "base_uri": "https://localhost:8080/"
    },
    "id": "2WFW9Odk32jH",
    "outputId": "c39cc97f-ce3e-48f3-c032-b63a8fbfe82d"
   },
   "outputs": [],
   "source": [
    "# Get job uuid from the job submission response\n",
    "print(\"****************************************************\")\n",
    "job_uuid_hpc_email=job_response_hpc_email.uuid\n",
    "print(\"Job UUID: \" + job_uuid_hpc_email)\n",
    "print(\"****************************************************\")"
   ]
  },
  {
   "cell_type": "code",
   "execution_count": null,
   "metadata": {
    "colab": {
     "base_uri": "https://localhost:8080/"
    },
    "id": "tyRg2R5h32jH",
    "outputId": "59aed7c2-a7c2-41d5-9a97-82c6ad7fe814"
   },
   "outputs": [],
   "source": [
    "# Check the status of the job\n",
    "print(\"****************************************************\")\n",
    "print(client.jobs.getJobStatus(jobUuid=job_uuid_hpc_email))\n",
    "print(\"****************************************************\")"
   ]
  },
  {
   "cell_type": "markdown",
   "metadata": {
    "collapsed": false,
    "id": "oTFph5jX32jI",
    "jupyter": {
     "outputs_hidden": false
    }
   },
   "source": [
    "### Cancel a job\n"
   ]
  },
  {
   "cell_type": "code",
   "execution_count": null,
   "metadata": {
    "id": "UabaszCM32jI"
   },
   "outputs": [],
   "source": [
    "# If necessary, you can cancel a long running job.\n",
    "# To cancel a running job\n",
    "# client.jobs.cancelJob(jobUuid=job_uuid_vm)"
   ]
  },
  {
   "cell_type": "markdown",
   "metadata": {
    "id": "CuqrHBsdKMoN"
   },
   "source": [
    "## Share System and App"
   ]
  },
  {
   "cell_type": "code",
   "execution_count": null,
   "metadata": {
    "id": "22bHyxBMKRKr"
   },
   "outputs": [],
   "source": [
    "#Making your execution system Public\n",
    "client.systems.shareSystemPublic(systemId=system_id_hpc)"
   ]
  },
  {
   "cell_type": "code",
   "execution_count": null,
   "metadata": {
    "id": "xMm7dXcg32jP"
   },
   "outputs": [],
   "source": [
    "# Making the app public\n",
    "client.apps.shareAppPublic(appId=app_id_hpc)"
   ]
  },
  {
   "cell_type": "code",
   "execution_count": null,
   "metadata": {
    "id": "GeHsfHMx32jP"
   },
   "outputs": [],
   "source": [
    "# Get Share info on the app\n",
    "client.apps.getShareInfo(appId=app_id_hpc)\n",
    "# Now any user in the tenant should be able to run your application"
   ]
  },
  {
   "cell_type": "code",
   "execution_count": null,
   "metadata": {
    "id": "kcnQJMvf32jP"
   },
   "outputs": [],
   "source": [
    "# Unsharing public app\n",
    "#client.apps.unShareAppPublic(appId=app_id_hpc)"
   ]
  },
  {
   "cell_type": "code",
   "execution_count": null,
   "metadata": {
    "id": "yjkjr806_dii"
   },
   "outputs": [],
   "source": [
    "## You should now be able to run any public apps\n",
    "'''\n",
    "pa= {\n",
    "    \"parameterSet\": {\n",
    "    \"appArgs\": [\n",
    "            {\"arg\": \"--sentences\"},\n",
    "            {\"arg\": \"\\\"This is great\\\" \\\"This is not fun\\\"\"}\n",
    "            \n",
    "        ]\n",
    "    }}\n",
    "\n",
    "# Submit a job\n",
    "job_response_hpc_email=client.jobs.submitJob(name='sentiment analysis',description='sentiment analysis with hugging face transformer pipelines',appId=app_id_hpc,appVersion='0.1',execSystemId=system_id_hpc,subscriptions= [ { \"description\": \"Test subscriptions\", \"eventCategoryFilter\": \"ALL\",\"deliveryTargets\": [ { \"deliveryMethod\": \"EMAIL\",\"deliveryAddress\":\"<Enter your email>\"}] }],**pa)\n",
    "'''"
   ]
  }
 ],
 "metadata": {
  "colab": {
   "provenance": []
  },
  "kernelspec": {
   "display_name": "Python 3 (ipykernel)",
   "language": "python",
   "name": "python3"
  },
  "language_info": {
   "codemirror_mode": {
    "name": "ipython",
    "version": 3
   },
   "file_extension": ".py",
   "mimetype": "text/x-python",
   "name": "python",
   "nbconvert_exporter": "python",
   "pygments_lexer": "ipython3",
   "version": "3.8.20"
  },
  "vscode": {
   "interpreter": {
    "hash": "aee8b7b246df8f9039afb4144a1f6fd8d2ca17a180786b69acc140d282b71a49"
   }
  },
  "widgets": {
   "application/vnd.jupyter.widget-state+json": {
    "028c7b70ab0f47eba3c2f1f20b0926e5": {
     "model_module": "@jupyter-widgets/base",
     "model_module_version": "1.2.0",
     "model_name": "LayoutModel",
     "state": {
      "_model_module": "@jupyter-widgets/base",
      "_model_module_version": "1.2.0",
      "_model_name": "LayoutModel",
      "_view_count": null,
      "_view_module": "@jupyter-widgets/base",
      "_view_module_version": "1.2.0",
      "_view_name": "LayoutView",
      "align_content": null,
      "align_items": null,
      "align_self": null,
      "border": null,
      "bottom": null,
      "display": null,
      "flex": null,
      "flex_flow": null,
      "grid_area": null,
      "grid_auto_columns": null,
      "grid_auto_flow": null,
      "grid_auto_rows": null,
      "grid_column": null,
      "grid_gap": null,
      "grid_row": null,
      "grid_template_areas": null,
      "grid_template_columns": null,
      "grid_template_rows": null,
      "height": null,
      "justify_content": null,
      "justify_items": null,
      "left": null,
      "margin": null,
      "max_height": null,
      "max_width": null,
      "min_height": null,
      "min_width": null,
      "object_fit": null,
      "object_position": null,
      "order": null,
      "overflow": null,
      "overflow_x": null,
      "overflow_y": null,
      "padding": null,
      "right": null,
      "top": null,
      "visibility": null,
      "width": null
     }
    },
    "0b8b3fafc8c24636a0c62a166483ddf1": {
     "model_module": "@jupyter-widgets/controls",
     "model_module_version": "1.5.0",
     "model_name": "FloatProgressModel",
     "state": {
      "_dom_classes": [],
      "_model_module": "@jupyter-widgets/controls",
      "_model_module_version": "1.5.0",
      "_model_name": "FloatProgressModel",
      "_view_count": null,
      "_view_module": "@jupyter-widgets/controls",
      "_view_module_version": "1.5.0",
      "_view_name": "ProgressView",
      "bar_style": "success",
      "description": "",
      "description_tooltip": null,
      "layout": "IPY_MODEL_ce0589017b48404dbce085ac6d20ab39",
      "max": 231508,
      "min": 0,
      "orientation": "horizontal",
      "style": "IPY_MODEL_7936555292b840c5884828de3c249282",
      "value": 231508
     }
    },
    "15e1577696a94cda9ff6c4c70ace604b": {
     "model_module": "@jupyter-widgets/base",
     "model_module_version": "1.2.0",
     "model_name": "LayoutModel",
     "state": {
      "_model_module": "@jupyter-widgets/base",
      "_model_module_version": "1.2.0",
      "_model_name": "LayoutModel",
      "_view_count": null,
      "_view_module": "@jupyter-widgets/base",
      "_view_module_version": "1.2.0",
      "_view_name": "LayoutView",
      "align_content": null,
      "align_items": null,
      "align_self": null,
      "border": null,
      "bottom": null,
      "display": null,
      "flex": null,
      "flex_flow": null,
      "grid_area": null,
      "grid_auto_columns": null,
      "grid_auto_flow": null,
      "grid_auto_rows": null,
      "grid_column": null,
      "grid_gap": null,
      "grid_row": null,
      "grid_template_areas": null,
      "grid_template_columns": null,
      "grid_template_rows": null,
      "height": null,
      "justify_content": null,
      "justify_items": null,
      "left": null,
      "margin": null,
      "max_height": null,
      "max_width": null,
      "min_height": null,
      "min_width": null,
      "object_fit": null,
      "object_position": null,
      "order": null,
      "overflow": null,
      "overflow_x": null,
      "overflow_y": null,
      "padding": null,
      "right": null,
      "top": null,
      "visibility": null,
      "width": null
     }
    },
    "1668296226ee45449efc03c39b22ce4a": {
     "model_module": "@jupyter-widgets/controls",
     "model_module_version": "1.5.0",
     "model_name": "HTMLModel",
     "state": {
      "_dom_classes": [],
      "_model_module": "@jupyter-widgets/controls",
      "_model_module_version": "1.5.0",
      "_model_name": "HTMLModel",
      "_view_count": null,
      "_view_module": "@jupyter-widgets/controls",
      "_view_module_version": "1.5.0",
      "_view_name": "HTMLView",
      "description": "",
      "description_tooltip": null,
      "layout": "IPY_MODEL_b2189b6006984d4ca6257f54f0626883",
      "placeholder": "​",
      "style": "IPY_MODEL_ef60dcf976254edeba80447ddaa09cc4",
      "value": "Downloading (…)solve/main/vocab.txt: 100%"
     }
    },
    "1a08a5ac238d4d40b1dd7d925361e589": {
     "model_module": "@jupyter-widgets/controls",
     "model_module_version": "1.5.0",
     "model_name": "HBoxModel",
     "state": {
      "_dom_classes": [],
      "_model_module": "@jupyter-widgets/controls",
      "_model_module_version": "1.5.0",
      "_model_name": "HBoxModel",
      "_view_count": null,
      "_view_module": "@jupyter-widgets/controls",
      "_view_module_version": "1.5.0",
      "_view_name": "HBoxView",
      "box_style": "",
      "children": [
       "IPY_MODEL_348eef1705e54a9b9f3660ded76bd68f",
       "IPY_MODEL_7eca837840ab495aa653d2751e821b2a",
       "IPY_MODEL_b55f0dae3c3647139c6680d6b59da998"
      ],
      "layout": "IPY_MODEL_15e1577696a94cda9ff6c4c70ace604b"
     }
    },
    "2f5c6539bb0d433e8a93e480452f2078": {
     "model_module": "@jupyter-widgets/base",
     "model_module_version": "1.2.0",
     "model_name": "LayoutModel",
     "state": {
      "_model_module": "@jupyter-widgets/base",
      "_model_module_version": "1.2.0",
      "_model_name": "LayoutModel",
      "_view_count": null,
      "_view_module": "@jupyter-widgets/base",
      "_view_module_version": "1.2.0",
      "_view_name": "LayoutView",
      "align_content": null,
      "align_items": null,
      "align_self": null,
      "border": null,
      "bottom": null,
      "display": null,
      "flex": null,
      "flex_flow": null,
      "grid_area": null,
      "grid_auto_columns": null,
      "grid_auto_flow": null,
      "grid_auto_rows": null,
      "grid_column": null,
      "grid_gap": null,
      "grid_row": null,
      "grid_template_areas": null,
      "grid_template_columns": null,
      "grid_template_rows": null,
      "height": null,
      "justify_content": null,
      "justify_items": null,
      "left": null,
      "margin": null,
      "max_height": null,
      "max_width": null,
      "min_height": null,
      "min_width": null,
      "object_fit": null,
      "object_position": null,
      "order": null,
      "overflow": null,
      "overflow_x": null,
      "overflow_y": null,
      "padding": null,
      "right": null,
      "top": null,
      "visibility": null,
      "width": null
     }
    },
    "348eef1705e54a9b9f3660ded76bd68f": {
     "model_module": "@jupyter-widgets/controls",
     "model_module_version": "1.5.0",
     "model_name": "HTMLModel",
     "state": {
      "_dom_classes": [],
      "_model_module": "@jupyter-widgets/controls",
      "_model_module_version": "1.5.0",
      "_model_name": "HTMLModel",
      "_view_count": null,
      "_view_module": "@jupyter-widgets/controls",
      "_view_module_version": "1.5.0",
      "_view_name": "HTMLView",
      "description": "",
      "description_tooltip": null,
      "layout": "IPY_MODEL_91c780a04a054671ad27c793f8693390",
      "placeholder": "​",
      "style": "IPY_MODEL_79bb64584df84cc5b70d837fce33b730",
      "value": "Downloading (…)okenizer_config.json: 100%"
     }
    },
    "38831328b9054139accbde1240fbda25": {
     "model_module": "@jupyter-widgets/controls",
     "model_module_version": "1.5.0",
     "model_name": "DescriptionStyleModel",
     "state": {
      "_model_module": "@jupyter-widgets/controls",
      "_model_module_version": "1.5.0",
      "_model_name": "DescriptionStyleModel",
      "_view_count": null,
      "_view_module": "@jupyter-widgets/base",
      "_view_module_version": "1.2.0",
      "_view_name": "StyleView",
      "description_width": ""
     }
    },
    "3a96b255b77b46929efd57dc56c4a800": {
     "model_module": "@jupyter-widgets/base",
     "model_module_version": "1.2.0",
     "model_name": "LayoutModel",
     "state": {
      "_model_module": "@jupyter-widgets/base",
      "_model_module_version": "1.2.0",
      "_model_name": "LayoutModel",
      "_view_count": null,
      "_view_module": "@jupyter-widgets/base",
      "_view_module_version": "1.2.0",
      "_view_name": "LayoutView",
      "align_content": null,
      "align_items": null,
      "align_self": null,
      "border": null,
      "bottom": null,
      "display": null,
      "flex": null,
      "flex_flow": null,
      "grid_area": null,
      "grid_auto_columns": null,
      "grid_auto_flow": null,
      "grid_auto_rows": null,
      "grid_column": null,
      "grid_gap": null,
      "grid_row": null,
      "grid_template_areas": null,
      "grid_template_columns": null,
      "grid_template_rows": null,
      "height": null,
      "justify_content": null,
      "justify_items": null,
      "left": null,
      "margin": null,
      "max_height": null,
      "max_width": null,
      "min_height": null,
      "min_width": null,
      "object_fit": null,
      "object_position": null,
      "order": null,
      "overflow": null,
      "overflow_x": null,
      "overflow_y": null,
      "padding": null,
      "right": null,
      "top": null,
      "visibility": null,
      "width": null
     }
    },
    "3ef1dbc02b6a4f08b894093bdac7343d": {
     "model_module": "@jupyter-widgets/base",
     "model_module_version": "1.2.0",
     "model_name": "LayoutModel",
     "state": {
      "_model_module": "@jupyter-widgets/base",
      "_model_module_version": "1.2.0",
      "_model_name": "LayoutModel",
      "_view_count": null,
      "_view_module": "@jupyter-widgets/base",
      "_view_module_version": "1.2.0",
      "_view_name": "LayoutView",
      "align_content": null,
      "align_items": null,
      "align_self": null,
      "border": null,
      "bottom": null,
      "display": null,
      "flex": null,
      "flex_flow": null,
      "grid_area": null,
      "grid_auto_columns": null,
      "grid_auto_flow": null,
      "grid_auto_rows": null,
      "grid_column": null,
      "grid_gap": null,
      "grid_row": null,
      "grid_template_areas": null,
      "grid_template_columns": null,
      "grid_template_rows": null,
      "height": null,
      "justify_content": null,
      "justify_items": null,
      "left": null,
      "margin": null,
      "max_height": null,
      "max_width": null,
      "min_height": null,
      "min_width": null,
      "object_fit": null,
      "object_position": null,
      "order": null,
      "overflow": null,
      "overflow_x": null,
      "overflow_y": null,
      "padding": null,
      "right": null,
      "top": null,
      "visibility": null,
      "width": null
     }
    },
    "43d1271cec9745cdb2649a85dc79e0e6": {
     "model_module": "@jupyter-widgets/base",
     "model_module_version": "1.2.0",
     "model_name": "LayoutModel",
     "state": {
      "_model_module": "@jupyter-widgets/base",
      "_model_module_version": "1.2.0",
      "_model_name": "LayoutModel",
      "_view_count": null,
      "_view_module": "@jupyter-widgets/base",
      "_view_module_version": "1.2.0",
      "_view_name": "LayoutView",
      "align_content": null,
      "align_items": null,
      "align_self": null,
      "border": null,
      "bottom": null,
      "display": null,
      "flex": null,
      "flex_flow": null,
      "grid_area": null,
      "grid_auto_columns": null,
      "grid_auto_flow": null,
      "grid_auto_rows": null,
      "grid_column": null,
      "grid_gap": null,
      "grid_row": null,
      "grid_template_areas": null,
      "grid_template_columns": null,
      "grid_template_rows": null,
      "height": null,
      "justify_content": null,
      "justify_items": null,
      "left": null,
      "margin": null,
      "max_height": null,
      "max_width": null,
      "min_height": null,
      "min_width": null,
      "object_fit": null,
      "object_position": null,
      "order": null,
      "overflow": null,
      "overflow_x": null,
      "overflow_y": null,
      "padding": null,
      "right": null,
      "top": null,
      "visibility": null,
      "width": null
     }
    },
    "4495c485de554751a39b7ebba6ce9faa": {
     "model_module": "@jupyter-widgets/base",
     "model_module_version": "1.2.0",
     "model_name": "LayoutModel",
     "state": {
      "_model_module": "@jupyter-widgets/base",
      "_model_module_version": "1.2.0",
      "_model_name": "LayoutModel",
      "_view_count": null,
      "_view_module": "@jupyter-widgets/base",
      "_view_module_version": "1.2.0",
      "_view_name": "LayoutView",
      "align_content": null,
      "align_items": null,
      "align_self": null,
      "border": null,
      "bottom": null,
      "display": null,
      "flex": null,
      "flex_flow": null,
      "grid_area": null,
      "grid_auto_columns": null,
      "grid_auto_flow": null,
      "grid_auto_rows": null,
      "grid_column": null,
      "grid_gap": null,
      "grid_row": null,
      "grid_template_areas": null,
      "grid_template_columns": null,
      "grid_template_rows": null,
      "height": null,
      "justify_content": null,
      "justify_items": null,
      "left": null,
      "margin": null,
      "max_height": null,
      "max_width": null,
      "min_height": null,
      "min_width": null,
      "object_fit": null,
      "object_position": null,
      "order": null,
      "overflow": null,
      "overflow_x": null,
      "overflow_y": null,
      "padding": null,
      "right": null,
      "top": null,
      "visibility": null,
      "width": null
     }
    },
    "47963cd61cae4dc4998b3a8d91043cc6": {
     "model_module": "@jupyter-widgets/controls",
     "model_module_version": "1.5.0",
     "model_name": "DescriptionStyleModel",
     "state": {
      "_model_module": "@jupyter-widgets/controls",
      "_model_module_version": "1.5.0",
      "_model_name": "DescriptionStyleModel",
      "_view_count": null,
      "_view_module": "@jupyter-widgets/base",
      "_view_module_version": "1.2.0",
      "_view_name": "StyleView",
      "description_width": ""
     }
    },
    "58a16acf45cb46f287d156a14f769a46": {
     "model_module": "@jupyter-widgets/controls",
     "model_module_version": "1.5.0",
     "model_name": "ProgressStyleModel",
     "state": {
      "_model_module": "@jupyter-widgets/controls",
      "_model_module_version": "1.5.0",
      "_model_name": "ProgressStyleModel",
      "_view_count": null,
      "_view_module": "@jupyter-widgets/base",
      "_view_module_version": "1.2.0",
      "_view_name": "StyleView",
      "bar_color": null,
      "description_width": ""
     }
    },
    "5ffb028ce453462aa304d39876928cb6": {
     "model_module": "@jupyter-widgets/controls",
     "model_module_version": "1.5.0",
     "model_name": "HTMLModel",
     "state": {
      "_dom_classes": [],
      "_model_module": "@jupyter-widgets/controls",
      "_model_module_version": "1.5.0",
      "_model_name": "HTMLModel",
      "_view_count": null,
      "_view_module": "@jupyter-widgets/controls",
      "_view_module_version": "1.5.0",
      "_view_name": "HTMLView",
      "description": "",
      "description_tooltip": null,
      "layout": "IPY_MODEL_d68ec7378a3e4e59ab59ccdeb8b2739e",
      "placeholder": "​",
      "style": "IPY_MODEL_8e3575d6ddc1441c88027bbd369524cd",
      "value": " 232k/232k [00:00&lt;00:00, 590kB/s]"
     }
    },
    "604d3d379cac422db3876609feefab31": {
     "model_module": "@jupyter-widgets/controls",
     "model_module_version": "1.5.0",
     "model_name": "HBoxModel",
     "state": {
      "_dom_classes": [],
      "_model_module": "@jupyter-widgets/controls",
      "_model_module_version": "1.5.0",
      "_model_name": "HBoxModel",
      "_view_count": null,
      "_view_module": "@jupyter-widgets/controls",
      "_view_module_version": "1.5.0",
      "_view_name": "HBoxView",
      "box_style": "",
      "children": [
       "IPY_MODEL_67d1cc4f82a641d6abf28f144c46eb8d",
       "IPY_MODEL_98c799acf42b4c7c867803de3bd79612",
       "IPY_MODEL_da334338b05248489ad5e5d2acd432e1"
      ],
      "layout": "IPY_MODEL_43d1271cec9745cdb2649a85dc79e0e6"
     }
    },
    "67d1cc4f82a641d6abf28f144c46eb8d": {
     "model_module": "@jupyter-widgets/controls",
     "model_module_version": "1.5.0",
     "model_name": "HTMLModel",
     "state": {
      "_dom_classes": [],
      "_model_module": "@jupyter-widgets/controls",
      "_model_module_version": "1.5.0",
      "_model_name": "HTMLModel",
      "_view_count": null,
      "_view_module": "@jupyter-widgets/controls",
      "_view_module_version": "1.5.0",
      "_view_name": "HTMLView",
      "description": "",
      "description_tooltip": null,
      "layout": "IPY_MODEL_8723bbfd4d8a4542ab35aeeac8191c40",
      "placeholder": "​",
      "style": "IPY_MODEL_b20c421a8af9477299d34f294ca66774",
      "value": "Downloading model.safetensors: 100%"
     }
    },
    "68bd26dfc3184328a35a4a90b5f67de9": {
     "model_module": "@jupyter-widgets/controls",
     "model_module_version": "1.5.0",
     "model_name": "FloatProgressModel",
     "state": {
      "_dom_classes": [],
      "_model_module": "@jupyter-widgets/controls",
      "_model_module_version": "1.5.0",
      "_model_name": "FloatProgressModel",
      "_view_count": null,
      "_view_module": "@jupyter-widgets/controls",
      "_view_module_version": "1.5.0",
      "_view_name": "ProgressView",
      "bar_style": "success",
      "description": "",
      "description_tooltip": null,
      "layout": "IPY_MODEL_4495c485de554751a39b7ebba6ce9faa",
      "max": 629,
      "min": 0,
      "orientation": "horizontal",
      "style": "IPY_MODEL_81127743dd6541f6a0362bfbfc3d7472",
      "value": 629
     }
    },
    "6d18fa41260641ca958def558a890967": {
     "model_module": "@jupyter-widgets/base",
     "model_module_version": "1.2.0",
     "model_name": "LayoutModel",
     "state": {
      "_model_module": "@jupyter-widgets/base",
      "_model_module_version": "1.2.0",
      "_model_name": "LayoutModel",
      "_view_count": null,
      "_view_module": "@jupyter-widgets/base",
      "_view_module_version": "1.2.0",
      "_view_name": "LayoutView",
      "align_content": null,
      "align_items": null,
      "align_self": null,
      "border": null,
      "bottom": null,
      "display": null,
      "flex": null,
      "flex_flow": null,
      "grid_area": null,
      "grid_auto_columns": null,
      "grid_auto_flow": null,
      "grid_auto_rows": null,
      "grid_column": null,
      "grid_gap": null,
      "grid_row": null,
      "grid_template_areas": null,
      "grid_template_columns": null,
      "grid_template_rows": null,
      "height": null,
      "justify_content": null,
      "justify_items": null,
      "left": null,
      "margin": null,
      "max_height": null,
      "max_width": null,
      "min_height": null,
      "min_width": null,
      "object_fit": null,
      "object_position": null,
      "order": null,
      "overflow": null,
      "overflow_x": null,
      "overflow_y": null,
      "padding": null,
      "right": null,
      "top": null,
      "visibility": null,
      "width": null
     }
    },
    "74478d586aaa4fe49c4f344a959e670e": {
     "model_module": "@jupyter-widgets/base",
     "model_module_version": "1.2.0",
     "model_name": "LayoutModel",
     "state": {
      "_model_module": "@jupyter-widgets/base",
      "_model_module_version": "1.2.0",
      "_model_name": "LayoutModel",
      "_view_count": null,
      "_view_module": "@jupyter-widgets/base",
      "_view_module_version": "1.2.0",
      "_view_name": "LayoutView",
      "align_content": null,
      "align_items": null,
      "align_self": null,
      "border": null,
      "bottom": null,
      "display": null,
      "flex": null,
      "flex_flow": null,
      "grid_area": null,
      "grid_auto_columns": null,
      "grid_auto_flow": null,
      "grid_auto_rows": null,
      "grid_column": null,
      "grid_gap": null,
      "grid_row": null,
      "grid_template_areas": null,
      "grid_template_columns": null,
      "grid_template_rows": null,
      "height": null,
      "justify_content": null,
      "justify_items": null,
      "left": null,
      "margin": null,
      "max_height": null,
      "max_width": null,
      "min_height": null,
      "min_width": null,
      "object_fit": null,
      "object_position": null,
      "order": null,
      "overflow": null,
      "overflow_x": null,
      "overflow_y": null,
      "padding": null,
      "right": null,
      "top": null,
      "visibility": null,
      "width": null
     }
    },
    "7936555292b840c5884828de3c249282": {
     "model_module": "@jupyter-widgets/controls",
     "model_module_version": "1.5.0",
     "model_name": "ProgressStyleModel",
     "state": {
      "_model_module": "@jupyter-widgets/controls",
      "_model_module_version": "1.5.0",
      "_model_name": "ProgressStyleModel",
      "_view_count": null,
      "_view_module": "@jupyter-widgets/base",
      "_view_module_version": "1.2.0",
      "_view_name": "StyleView",
      "bar_color": null,
      "description_width": ""
     }
    },
    "79bb64584df84cc5b70d837fce33b730": {
     "model_module": "@jupyter-widgets/controls",
     "model_module_version": "1.5.0",
     "model_name": "DescriptionStyleModel",
     "state": {
      "_model_module": "@jupyter-widgets/controls",
      "_model_module_version": "1.5.0",
      "_model_name": "DescriptionStyleModel",
      "_view_count": null,
      "_view_module": "@jupyter-widgets/base",
      "_view_module_version": "1.2.0",
      "_view_name": "StyleView",
      "description_width": ""
     }
    },
    "7eca837840ab495aa653d2751e821b2a": {
     "model_module": "@jupyter-widgets/controls",
     "model_module_version": "1.5.0",
     "model_name": "FloatProgressModel",
     "state": {
      "_dom_classes": [],
      "_model_module": "@jupyter-widgets/controls",
      "_model_module_version": "1.5.0",
      "_model_name": "FloatProgressModel",
      "_view_count": null,
      "_view_module": "@jupyter-widgets/controls",
      "_view_module_version": "1.5.0",
      "_view_name": "ProgressView",
      "bar_style": "success",
      "description": "",
      "description_tooltip": null,
      "layout": "IPY_MODEL_74478d586aaa4fe49c4f344a959e670e",
      "max": 48,
      "min": 0,
      "orientation": "horizontal",
      "style": "IPY_MODEL_58a16acf45cb46f287d156a14f769a46",
      "value": 48
     }
    },
    "81127743dd6541f6a0362bfbfc3d7472": {
     "model_module": "@jupyter-widgets/controls",
     "model_module_version": "1.5.0",
     "model_name": "ProgressStyleModel",
     "state": {
      "_model_module": "@jupyter-widgets/controls",
      "_model_module_version": "1.5.0",
      "_model_name": "ProgressStyleModel",
      "_view_count": null,
      "_view_module": "@jupyter-widgets/base",
      "_view_module_version": "1.2.0",
      "_view_name": "StyleView",
      "bar_color": null,
      "description_width": ""
     }
    },
    "8723bbfd4d8a4542ab35aeeac8191c40": {
     "model_module": "@jupyter-widgets/base",
     "model_module_version": "1.2.0",
     "model_name": "LayoutModel",
     "state": {
      "_model_module": "@jupyter-widgets/base",
      "_model_module_version": "1.2.0",
      "_model_name": "LayoutModel",
      "_view_count": null,
      "_view_module": "@jupyter-widgets/base",
      "_view_module_version": "1.2.0",
      "_view_name": "LayoutView",
      "align_content": null,
      "align_items": null,
      "align_self": null,
      "border": null,
      "bottom": null,
      "display": null,
      "flex": null,
      "flex_flow": null,
      "grid_area": null,
      "grid_auto_columns": null,
      "grid_auto_flow": null,
      "grid_auto_rows": null,
      "grid_column": null,
      "grid_gap": null,
      "grid_row": null,
      "grid_template_areas": null,
      "grid_template_columns": null,
      "grid_template_rows": null,
      "height": null,
      "justify_content": null,
      "justify_items": null,
      "left": null,
      "margin": null,
      "max_height": null,
      "max_width": null,
      "min_height": null,
      "min_width": null,
      "object_fit": null,
      "object_position": null,
      "order": null,
      "overflow": null,
      "overflow_x": null,
      "overflow_y": null,
      "padding": null,
      "right": null,
      "top": null,
      "visibility": null,
      "width": null
     }
    },
    "8e3575d6ddc1441c88027bbd369524cd": {
     "model_module": "@jupyter-widgets/controls",
     "model_module_version": "1.5.0",
     "model_name": "DescriptionStyleModel",
     "state": {
      "_model_module": "@jupyter-widgets/controls",
      "_model_module_version": "1.5.0",
      "_model_name": "DescriptionStyleModel",
      "_view_count": null,
      "_view_module": "@jupyter-widgets/base",
      "_view_module_version": "1.2.0",
      "_view_name": "StyleView",
      "description_width": ""
     }
    },
    "91c780a04a054671ad27c793f8693390": {
     "model_module": "@jupyter-widgets/base",
     "model_module_version": "1.2.0",
     "model_name": "LayoutModel",
     "state": {
      "_model_module": "@jupyter-widgets/base",
      "_model_module_version": "1.2.0",
      "_model_name": "LayoutModel",
      "_view_count": null,
      "_view_module": "@jupyter-widgets/base",
      "_view_module_version": "1.2.0",
      "_view_name": "LayoutView",
      "align_content": null,
      "align_items": null,
      "align_self": null,
      "border": null,
      "bottom": null,
      "display": null,
      "flex": null,
      "flex_flow": null,
      "grid_area": null,
      "grid_auto_columns": null,
      "grid_auto_flow": null,
      "grid_auto_rows": null,
      "grid_column": null,
      "grid_gap": null,
      "grid_row": null,
      "grid_template_areas": null,
      "grid_template_columns": null,
      "grid_template_rows": null,
      "height": null,
      "justify_content": null,
      "justify_items": null,
      "left": null,
      "margin": null,
      "max_height": null,
      "max_width": null,
      "min_height": null,
      "min_width": null,
      "object_fit": null,
      "object_position": null,
      "order": null,
      "overflow": null,
      "overflow_x": null,
      "overflow_y": null,
      "padding": null,
      "right": null,
      "top": null,
      "visibility": null,
      "width": null
     }
    },
    "951a1ff3690d469dafcab1e112cacfd7": {
     "model_module": "@jupyter-widgets/controls",
     "model_module_version": "1.5.0",
     "model_name": "ProgressStyleModel",
     "state": {
      "_model_module": "@jupyter-widgets/controls",
      "_model_module_version": "1.5.0",
      "_model_name": "ProgressStyleModel",
      "_view_count": null,
      "_view_module": "@jupyter-widgets/base",
      "_view_module_version": "1.2.0",
      "_view_name": "StyleView",
      "bar_color": null,
      "description_width": ""
     }
    },
    "98c799acf42b4c7c867803de3bd79612": {
     "model_module": "@jupyter-widgets/controls",
     "model_module_version": "1.5.0",
     "model_name": "FloatProgressModel",
     "state": {
      "_dom_classes": [],
      "_model_module": "@jupyter-widgets/controls",
      "_model_module_version": "1.5.0",
      "_model_name": "FloatProgressModel",
      "_view_count": null,
      "_view_module": "@jupyter-widgets/controls",
      "_view_module_version": "1.5.0",
      "_view_name": "ProgressView",
      "bar_style": "success",
      "description": "",
      "description_tooltip": null,
      "layout": "IPY_MODEL_6d18fa41260641ca958def558a890967",
      "max": 267832558,
      "min": 0,
      "orientation": "horizontal",
      "style": "IPY_MODEL_951a1ff3690d469dafcab1e112cacfd7",
      "value": 267832558
     }
    },
    "9b9a8e9b74e842f4962d96a3e3a2e3dd": {
     "model_module": "@jupyter-widgets/controls",
     "model_module_version": "1.5.0",
     "model_name": "DescriptionStyleModel",
     "state": {
      "_model_module": "@jupyter-widgets/controls",
      "_model_module_version": "1.5.0",
      "_model_name": "DescriptionStyleModel",
      "_view_count": null,
      "_view_module": "@jupyter-widgets/base",
      "_view_module_version": "1.2.0",
      "_view_name": "StyleView",
      "description_width": ""
     }
    },
    "a0fc5b142c3b40dba6ab18a03f2a5b05": {
     "model_module": "@jupyter-widgets/controls",
     "model_module_version": "1.5.0",
     "model_name": "HBoxModel",
     "state": {
      "_dom_classes": [],
      "_model_module": "@jupyter-widgets/controls",
      "_model_module_version": "1.5.0",
      "_model_name": "HBoxModel",
      "_view_count": null,
      "_view_module": "@jupyter-widgets/controls",
      "_view_module_version": "1.5.0",
      "_view_name": "HBoxView",
      "box_style": "",
      "children": [
       "IPY_MODEL_1668296226ee45449efc03c39b22ce4a",
       "IPY_MODEL_0b8b3fafc8c24636a0c62a166483ddf1",
       "IPY_MODEL_5ffb028ce453462aa304d39876928cb6"
      ],
      "layout": "IPY_MODEL_f494f3b2a79b4139875cb40395d4e2ee"
     }
    },
    "b20c421a8af9477299d34f294ca66774": {
     "model_module": "@jupyter-widgets/controls",
     "model_module_version": "1.5.0",
     "model_name": "DescriptionStyleModel",
     "state": {
      "_model_module": "@jupyter-widgets/controls",
      "_model_module_version": "1.5.0",
      "_model_name": "DescriptionStyleModel",
      "_view_count": null,
      "_view_module": "@jupyter-widgets/base",
      "_view_module_version": "1.2.0",
      "_view_name": "StyleView",
      "description_width": ""
     }
    },
    "b2189b6006984d4ca6257f54f0626883": {
     "model_module": "@jupyter-widgets/base",
     "model_module_version": "1.2.0",
     "model_name": "LayoutModel",
     "state": {
      "_model_module": "@jupyter-widgets/base",
      "_model_module_version": "1.2.0",
      "_model_name": "LayoutModel",
      "_view_count": null,
      "_view_module": "@jupyter-widgets/base",
      "_view_module_version": "1.2.0",
      "_view_name": "LayoutView",
      "align_content": null,
      "align_items": null,
      "align_self": null,
      "border": null,
      "bottom": null,
      "display": null,
      "flex": null,
      "flex_flow": null,
      "grid_area": null,
      "grid_auto_columns": null,
      "grid_auto_flow": null,
      "grid_auto_rows": null,
      "grid_column": null,
      "grid_gap": null,
      "grid_row": null,
      "grid_template_areas": null,
      "grid_template_columns": null,
      "grid_template_rows": null,
      "height": null,
      "justify_content": null,
      "justify_items": null,
      "left": null,
      "margin": null,
      "max_height": null,
      "max_width": null,
      "min_height": null,
      "min_width": null,
      "object_fit": null,
      "object_position": null,
      "order": null,
      "overflow": null,
      "overflow_x": null,
      "overflow_y": null,
      "padding": null,
      "right": null,
      "top": null,
      "visibility": null,
      "width": null
     }
    },
    "b3d6482f80134b668d1c48af02de7bcf": {
     "model_module": "@jupyter-widgets/controls",
     "model_module_version": "1.5.0",
     "model_name": "DescriptionStyleModel",
     "state": {
      "_model_module": "@jupyter-widgets/controls",
      "_model_module_version": "1.5.0",
      "_model_name": "DescriptionStyleModel",
      "_view_count": null,
      "_view_module": "@jupyter-widgets/base",
      "_view_module_version": "1.2.0",
      "_view_name": "StyleView",
      "description_width": ""
     }
    },
    "b55f0dae3c3647139c6680d6b59da998": {
     "model_module": "@jupyter-widgets/controls",
     "model_module_version": "1.5.0",
     "model_name": "HTMLModel",
     "state": {
      "_dom_classes": [],
      "_model_module": "@jupyter-widgets/controls",
      "_model_module_version": "1.5.0",
      "_model_name": "HTMLModel",
      "_view_count": null,
      "_view_module": "@jupyter-widgets/controls",
      "_view_module_version": "1.5.0",
      "_view_name": "HTMLView",
      "description": "",
      "description_tooltip": null,
      "layout": "IPY_MODEL_c9f88d97ef8b47aa92217e58fd3d82e0",
      "placeholder": "​",
      "style": "IPY_MODEL_47963cd61cae4dc4998b3a8d91043cc6",
      "value": " 48.0/48.0 [00:00&lt;00:00, 2.08kB/s]"
     }
    },
    "c9f88d97ef8b47aa92217e58fd3d82e0": {
     "model_module": "@jupyter-widgets/base",
     "model_module_version": "1.2.0",
     "model_name": "LayoutModel",
     "state": {
      "_model_module": "@jupyter-widgets/base",
      "_model_module_version": "1.2.0",
      "_model_name": "LayoutModel",
      "_view_count": null,
      "_view_module": "@jupyter-widgets/base",
      "_view_module_version": "1.2.0",
      "_view_name": "LayoutView",
      "align_content": null,
      "align_items": null,
      "align_self": null,
      "border": null,
      "bottom": null,
      "display": null,
      "flex": null,
      "flex_flow": null,
      "grid_area": null,
      "grid_auto_columns": null,
      "grid_auto_flow": null,
      "grid_auto_rows": null,
      "grid_column": null,
      "grid_gap": null,
      "grid_row": null,
      "grid_template_areas": null,
      "grid_template_columns": null,
      "grid_template_rows": null,
      "height": null,
      "justify_content": null,
      "justify_items": null,
      "left": null,
      "margin": null,
      "max_height": null,
      "max_width": null,
      "min_height": null,
      "min_width": null,
      "object_fit": null,
      "object_position": null,
      "order": null,
      "overflow": null,
      "overflow_x": null,
      "overflow_y": null,
      "padding": null,
      "right": null,
      "top": null,
      "visibility": null,
      "width": null
     }
    },
    "ce0589017b48404dbce085ac6d20ab39": {
     "model_module": "@jupyter-widgets/base",
     "model_module_version": "1.2.0",
     "model_name": "LayoutModel",
     "state": {
      "_model_module": "@jupyter-widgets/base",
      "_model_module_version": "1.2.0",
      "_model_name": "LayoutModel",
      "_view_count": null,
      "_view_module": "@jupyter-widgets/base",
      "_view_module_version": "1.2.0",
      "_view_name": "LayoutView",
      "align_content": null,
      "align_items": null,
      "align_self": null,
      "border": null,
      "bottom": null,
      "display": null,
      "flex": null,
      "flex_flow": null,
      "grid_area": null,
      "grid_auto_columns": null,
      "grid_auto_flow": null,
      "grid_auto_rows": null,
      "grid_column": null,
      "grid_gap": null,
      "grid_row": null,
      "grid_template_areas": null,
      "grid_template_columns": null,
      "grid_template_rows": null,
      "height": null,
      "justify_content": null,
      "justify_items": null,
      "left": null,
      "margin": null,
      "max_height": null,
      "max_width": null,
      "min_height": null,
      "min_width": null,
      "object_fit": null,
      "object_position": null,
      "order": null,
      "overflow": null,
      "overflow_x": null,
      "overflow_y": null,
      "padding": null,
      "right": null,
      "top": null,
      "visibility": null,
      "width": null
     }
    },
    "d68ec7378a3e4e59ab59ccdeb8b2739e": {
     "model_module": "@jupyter-widgets/base",
     "model_module_version": "1.2.0",
     "model_name": "LayoutModel",
     "state": {
      "_model_module": "@jupyter-widgets/base",
      "_model_module_version": "1.2.0",
      "_model_name": "LayoutModel",
      "_view_count": null,
      "_view_module": "@jupyter-widgets/base",
      "_view_module_version": "1.2.0",
      "_view_name": "LayoutView",
      "align_content": null,
      "align_items": null,
      "align_self": null,
      "border": null,
      "bottom": null,
      "display": null,
      "flex": null,
      "flex_flow": null,
      "grid_area": null,
      "grid_auto_columns": null,
      "grid_auto_flow": null,
      "grid_auto_rows": null,
      "grid_column": null,
      "grid_gap": null,
      "grid_row": null,
      "grid_template_areas": null,
      "grid_template_columns": null,
      "grid_template_rows": null,
      "height": null,
      "justify_content": null,
      "justify_items": null,
      "left": null,
      "margin": null,
      "max_height": null,
      "max_width": null,
      "min_height": null,
      "min_width": null,
      "object_fit": null,
      "object_position": null,
      "order": null,
      "overflow": null,
      "overflow_x": null,
      "overflow_y": null,
      "padding": null,
      "right": null,
      "top": null,
      "visibility": null,
      "width": null
     }
    },
    "d702df7b9ebf4dc69500e3fc9c8c79bb": {
     "model_module": "@jupyter-widgets/controls",
     "model_module_version": "1.5.0",
     "model_name": "HTMLModel",
     "state": {
      "_dom_classes": [],
      "_model_module": "@jupyter-widgets/controls",
      "_model_module_version": "1.5.0",
      "_model_name": "HTMLModel",
      "_view_count": null,
      "_view_module": "@jupyter-widgets/controls",
      "_view_module_version": "1.5.0",
      "_view_name": "HTMLView",
      "description": "",
      "description_tooltip": null,
      "layout": "IPY_MODEL_3a96b255b77b46929efd57dc56c4a800",
      "placeholder": "​",
      "style": "IPY_MODEL_b3d6482f80134b668d1c48af02de7bcf",
      "value": "Downloading (…)lve/main/config.json: 100%"
     }
    },
    "da334338b05248489ad5e5d2acd432e1": {
     "model_module": "@jupyter-widgets/controls",
     "model_module_version": "1.5.0",
     "model_name": "HTMLModel",
     "state": {
      "_dom_classes": [],
      "_model_module": "@jupyter-widgets/controls",
      "_model_module_version": "1.5.0",
      "_model_name": "HTMLModel",
      "_view_count": null,
      "_view_module": "@jupyter-widgets/controls",
      "_view_module_version": "1.5.0",
      "_view_name": "HTMLView",
      "description": "",
      "description_tooltip": null,
      "layout": "IPY_MODEL_2f5c6539bb0d433e8a93e480452f2078",
      "placeholder": "​",
      "style": "IPY_MODEL_9b9a8e9b74e842f4962d96a3e3a2e3dd",
      "value": " 268M/268M [00:02&lt;00:00, 92.8MB/s]"
     }
    },
    "e019f9b1da334de7b367eac4f5832aa7": {
     "model_module": "@jupyter-widgets/controls",
     "model_module_version": "1.5.0",
     "model_name": "HBoxModel",
     "state": {
      "_dom_classes": [],
      "_model_module": "@jupyter-widgets/controls",
      "_model_module_version": "1.5.0",
      "_model_name": "HBoxModel",
      "_view_count": null,
      "_view_module": "@jupyter-widgets/controls",
      "_view_module_version": "1.5.0",
      "_view_name": "HBoxView",
      "box_style": "",
      "children": [
       "IPY_MODEL_d702df7b9ebf4dc69500e3fc9c8c79bb",
       "IPY_MODEL_68bd26dfc3184328a35a4a90b5f67de9",
       "IPY_MODEL_f960471fd6fe4265bdbb2fd251de6d83"
      ],
      "layout": "IPY_MODEL_028c7b70ab0f47eba3c2f1f20b0926e5"
     }
    },
    "ef60dcf976254edeba80447ddaa09cc4": {
     "model_module": "@jupyter-widgets/controls",
     "model_module_version": "1.5.0",
     "model_name": "DescriptionStyleModel",
     "state": {
      "_model_module": "@jupyter-widgets/controls",
      "_model_module_version": "1.5.0",
      "_model_name": "DescriptionStyleModel",
      "_view_count": null,
      "_view_module": "@jupyter-widgets/base",
      "_view_module_version": "1.2.0",
      "_view_name": "StyleView",
      "description_width": ""
     }
    },
    "f494f3b2a79b4139875cb40395d4e2ee": {
     "model_module": "@jupyter-widgets/base",
     "model_module_version": "1.2.0",
     "model_name": "LayoutModel",
     "state": {
      "_model_module": "@jupyter-widgets/base",
      "_model_module_version": "1.2.0",
      "_model_name": "LayoutModel",
      "_view_count": null,
      "_view_module": "@jupyter-widgets/base",
      "_view_module_version": "1.2.0",
      "_view_name": "LayoutView",
      "align_content": null,
      "align_items": null,
      "align_self": null,
      "border": null,
      "bottom": null,
      "display": null,
      "flex": null,
      "flex_flow": null,
      "grid_area": null,
      "grid_auto_columns": null,
      "grid_auto_flow": null,
      "grid_auto_rows": null,
      "grid_column": null,
      "grid_gap": null,
      "grid_row": null,
      "grid_template_areas": null,
      "grid_template_columns": null,
      "grid_template_rows": null,
      "height": null,
      "justify_content": null,
      "justify_items": null,
      "left": null,
      "margin": null,
      "max_height": null,
      "max_width": null,
      "min_height": null,
      "min_width": null,
      "object_fit": null,
      "object_position": null,
      "order": null,
      "overflow": null,
      "overflow_x": null,
      "overflow_y": null,
      "padding": null,
      "right": null,
      "top": null,
      "visibility": null,
      "width": null
     }
    },
    "f960471fd6fe4265bdbb2fd251de6d83": {
     "model_module": "@jupyter-widgets/controls",
     "model_module_version": "1.5.0",
     "model_name": "HTMLModel",
     "state": {
      "_dom_classes": [],
      "_model_module": "@jupyter-widgets/controls",
      "_model_module_version": "1.5.0",
      "_model_name": "HTMLModel",
      "_view_count": null,
      "_view_module": "@jupyter-widgets/controls",
      "_view_module_version": "1.5.0",
      "_view_name": "HTMLView",
      "description": "",
      "description_tooltip": null,
      "layout": "IPY_MODEL_3ef1dbc02b6a4f08b894093bdac7343d",
      "placeholder": "​",
      "style": "IPY_MODEL_38831328b9054139accbde1240fbda25",
      "value": " 629/629 [00:00&lt;00:00, 34.4kB/s]"
     }
    }
   }
  }
 },
 "nbformat": 4,
 "nbformat_minor": 4
}
